{
 "cells": [
  {
   "cell_type": "code",
   "execution_count": 1,
   "id": "8cdd7b5c-b4bd-451b-82e3-53abaf389023",
   "metadata": {},
   "outputs": [
    {
     "name": "stdout",
     "output_type": "stream",
     "text": [
      "['DISPATCHLOAD', 'NEXT_DAY_DISPATCHLOAD', 'INTERMITTENT_GEN_SCADA', 'DUDETAILSUMMARY', 'PARTICIPANT', 'DUDETAIL', 'DISPATCHCONSTRAINT', 'GENCONDATA', 'DISPATCH_UNIT_SCADA', 'DISPATCHPRICE', 'SPDREGIONCONSTRAINT', 'SPDCONNECTIONPOINTCONSTRAINT', 'SPDINTERCONNECTORCONSTRAINT', 'BIDPEROFFER_D', 'DISPATCHINTERCONNECTORRES', 'BIDDAYOFFER_D', 'DISPATCHREGIONSUM', 'FCAS_4_SECOND', 'MNSP_INTERCONNECTOR', 'MNSP_PEROFFER', 'INTERCONNECTOR', 'INTERCONNECTORCONSTRAINT', 'MNSP_DAYOFFER', 'LOSSMODEL', 'LOSSFACTORMODEL', 'TRADINGLOAD', 'TRADINGPRICE', 'TRADINGREGIONSUM', 'TRADINGINTERCONNECT', 'MARKET_PRICE_THRESHOLDS', 'DAILY_REGION_SUMMARY', 'ROOFTOP_PV_ACTUAL']\n"
     ]
    }
   ],
   "source": [
    "from nemosis import defaults\n",
    "\n",
    "print(defaults.dynamic_tables)\n"
   ]
  },
  {
   "cell_type": "code",
   "execution_count": 2,
   "id": "34322bad-1ce8-4cf9-9c3c-2e7b3b6cab6e",
   "metadata": {},
   "outputs": [
    {
     "name": "stdout",
     "output_type": "stream",
     "text": [
      "['SETTLEMENTDATE', 'DUID', 'INTERVENTION', 'DISPATCHMODE', 'AGCSTATUS', 'INITIALMW', 'TOTALCLEARED', 'RAMPDOWNRATE', 'RAMPUPRATE', 'LOWER5MIN', 'LOWER60SEC', 'LOWER6SEC', 'LOWER1SEC', 'RAISE5MIN', 'RAISE60SEC', 'RAISE6SEC', 'RAISE1SEC', 'LOWERREG', 'RAISEREG', 'SEMIDISPATCHCAP', 'AVAILABILITY', 'RAISEREGENABLEMENTMAX', 'RAISEREGENABLEMENTMIN', 'LOWERREGENABLEMENTMAX', 'LOWERREGENABLEMENTMIN']\n"
     ]
    }
   ],
   "source": [
    "from nemosis import defaults\n",
    "\n",
    "print(defaults.table_columns['DISPATCHLOAD'])"
   ]
  },
  {
   "cell_type": "code",
   "execution_count": 3,
   "id": "e6e102fb-d99d-43af-9e23-a14a7600ed2a",
   "metadata": {},
   "outputs": [
    {
     "name": "stdout",
     "output_type": "stream",
     "text": [
      "['SETTLEMENTDATE', 'DUID', 'INTERVENTION', 'DISPATCHMODE', 'AGCSTATUS', 'INITIALMW', 'TOTALCLEARED', 'RAMPDOWNRATE', 'RAMPUPRATE', 'LOWER5MIN', 'LOWER60SEC', 'LOWER6SEC', 'LOWER1SEC', 'RAISE5MIN', 'RAISE60SEC', 'RAISE6SEC', 'RAISE1SEC', 'LOWERREG', 'RAISEREG', 'SEMIDISPATCHCAP', 'AVAILABILITY', 'RAISEREGENABLEMENTMAX', 'RAISEREGENABLEMENTMIN', 'LOWERREGENABLEMENTMAX', 'LOWERREGENABLEMENTMIN']\n"
     ]
    }
   ],
   "source": [
    "print(defaults.table_columns['NEXT_DAY_DISPATCHLOAD'])"
   ]
  },
  {
   "cell_type": "code",
   "execution_count": 4,
   "id": "6f14abb2-be1e-4544-9d61-a729e39d754d",
   "metadata": {},
   "outputs": [
    {
     "name": "stdout",
     "output_type": "stream",
     "text": [
      "['SETTLEMENTDATE', 'DUID', 'BIDTYPE', 'DIRECTION', 'OFFERDATE', 'VERSIONNO', 'PRICEBAND1', 'PRICEBAND2', 'PRICEBAND3', 'PRICEBAND4', 'PRICEBAND5', 'PRICEBAND6', 'PRICEBAND7', 'PRICEBAND8', 'PRICEBAND9', 'PRICEBAND10', 'T1', 'T2', 'T3', 'T4', 'MINIMUMLOAD']\n"
     ]
    }
   ],
   "source": [
    "from nemosis import defaults\n",
    "\n",
    "print(defaults.table_columns['BIDDAYOFFER_D'])"
   ]
  },
  {
   "cell_type": "code",
   "execution_count": 5,
   "id": "64809153-b648-4864-a92b-3866ae50ff6b",
   "metadata": {},
   "outputs": [
    {
     "name": "stdout",
     "output_type": "stream",
     "text": [
      "['RUN_DATETIME', 'DUID', 'SCADA_TYPE', 'SCADA_VALUE', 'SCADA_QUALITY']\n"
     ]
    }
   ],
   "source": [
    "print(defaults.table_columns['INTERMITTENT_GEN_SCADA'])"
   ]
  },
  {
   "cell_type": "code",
   "execution_count": 6,
   "id": "33299421-eb77-4db9-9afe-5765da097b69",
   "metadata": {},
   "outputs": [
    {
     "name": "stdout",
     "output_type": "stream",
     "text": [
      "['DUID', 'START_DATE', 'END_DATE', 'DISPATCHTYPE', 'CONNECTIONPOINTID', 'REGIONID', 'STATIONID', 'PARTICIPANTID', 'LASTCHANGED', 'TRANSMISSIONLOSSFACTOR', 'STARTTYPE', 'DISTRIBUTIONLOSSFACTOR', 'SCHEDULE_TYPE', 'MAX_RAMP_RATE_UP', 'MAX_RAMP_RATE_DOWN']\n"
     ]
    }
   ],
   "source": [
    "print(defaults.table_columns['DUDETAILSUMMARY'])"
   ]
  },
  {
   "cell_type": "code",
   "execution_count": 7,
   "id": "8c315ef4-19d7-459b-8450-c57b82a20250",
   "metadata": {},
   "outputs": [
    {
     "name": "stdout",
     "output_type": "stream",
     "text": [
      "['SETTLEMENTDATE', 'RUNNO', 'CONSTRAINTID', 'INTERVENTION', 'RHS', 'MARGINALVALUE', 'VIOLATIONDEGREE', 'LASTCHANGED', 'GENCONID_EFFECTIVEDATE', 'GENCONID_VERSIONNO', 'LHS', 'DISPATCHINTERVAL']\n"
     ]
    }
   ],
   "source": [
    "print(defaults.table_columns['DISPATCHCONSTRAINT'])"
   ]
  },
  {
   "cell_type": "code",
   "execution_count": 8,
   "id": "59c65a95-2fbc-4bc9-a2c4-3557cf0be2bb",
   "metadata": {},
   "outputs": [
    {
     "name": "stdout",
     "output_type": "stream",
     "text": [
      "['SETTLEMENTDATE', 'REGIONID', 'INTERVENTION', 'RRP', 'RAISE6SECRRP', 'RAISE60SECRRP', 'RAISE5MINRRP', 'RAISEREGRRP', 'LOWER6SECRRP', 'LOWER60SECRRP', 'LOWER5MINRRP', 'LOWERREGRRP', 'PRICE_STATUS']\n"
     ]
    }
   ],
   "source": [
    "print(defaults.table_columns['DISPATCHPRICE'])"
   ]
  },
  {
   "cell_type": "code",
   "execution_count": 9,
   "id": "f3a9527d-7ece-48c3-a363-41404af95583",
   "metadata": {},
   "outputs": [
    {
     "name": "stdout",
     "output_type": "stream",
     "text": [
      "['GENCONID', 'EFFECTIVEDATE', 'VERSIONNO', 'CONSTRAINTTYPE', 'CONSTRAINTVALUE', 'DESCRIPTION', 'GENERICCONSTRAINTWEIGHT', 'LASTCHANGED', 'DISPATCH', 'PREDISPATCH', 'STPASA', 'MTPASA', 'LIMITTYPE', 'REASON']\n"
     ]
    }
   ],
   "source": [
    "print(defaults.table_columns['GENCONDATA'])"
   ]
  },
  {
   "cell_type": "code",
   "execution_count": 10,
   "id": "8c46e4b9-9bbc-4654-8966-94867cdc279f",
   "metadata": {},
   "outputs": [
    {
     "name": "stdout",
     "output_type": "stream",
     "text": [
      "['SETTLEMENTDATE', 'REGIONID', 'DISPATCHINTERVAL', 'INTERVENTION', 'TOTALDEMAND', 'AVAILABLEGENERATION', 'AVAILABLELOAD', 'DEMANDFORECAST', 'DISPATCHABLEGENERATION', 'DISPATCHABLELOAD', 'NETINTERCHANGE', 'EXCESSGENERATION', 'LOWER5MINLOCALDISPATCH', 'LOWER60SECLOCALDISPATCH', 'LOWER6SECLOCALDISPATCH', 'RAISE5MINLOCALDISPATCH', 'RAISE60SECLOCALDISPATCH', 'RAISE6SECLOCALDISPATCH', 'LOWERREGLOCALDISPATCH', 'RAISEREGLOCALDISPATCH', 'INITIALSUPPLY', 'CLEAREDSUPPLY', 'TOTALINTERMITTENTGENERATION', 'DEMAND_AND_NONSCHEDGEN', 'UIGF', 'SEMISCHEDULE_CLEAREDMW', 'SEMISCHEDULE_COMPLIANCEMW']\n"
     ]
    }
   ],
   "source": [
    "print(defaults.table_columns['DISPATCHREGIONSUM'])"
   ]
  },
  {
   "cell_type": "code",
   "execution_count": 11,
   "id": "f1ce5cc0-02cd-4d24-b9a9-4bdba70e2a19",
   "metadata": {},
   "outputs": [
    {
     "name": "stdout",
     "output_type": "stream",
     "text": [
      "['EFFECTIVEDATE', 'VERSIONNO', 'INTERCONNECTORID', 'REGIONID', 'DEMANDCOEFFICIENT']\n"
     ]
    }
   ],
   "source": [
    "print(defaults.table_columns['LOSSFACTORMODEL'])"
   ]
  },
  {
   "cell_type": "code",
   "execution_count": 12,
   "id": "5eca7a43-af15-4722-9706-d9588ab99660",
   "metadata": {},
   "outputs": [
    {
     "name": "stdout",
     "output_type": "stream",
     "text": [
      "['EFFECTIVEDATE', 'VERSIONNO', 'VOLL', 'MARKETPRICEFLOOR']\n"
     ]
    }
   ],
   "source": [
    "print(defaults.table_columns['MARKET_PRICE_THRESHOLDS'])"
   ]
  },
  {
   "cell_type": "code",
   "execution_count": 13,
   "id": "7b05422a-cd3b-4560-9fd6-291918cd1f83",
   "metadata": {},
   "outputs": [
    {
     "name": "stdout",
     "output_type": "stream",
     "text": [
      "['SETTLEMENTDATE', 'RUNNO', 'REGIONID', 'INTERVENTION', 'RRP', 'EEP', 'ROP', 'APCFLAG', 'MARKETSUSPENDEDFLAG', 'TOTALDEMAND', 'DEMANDFORECAST', 'DISPATCHABLEGENERATION', 'DISPATCHABLELOAD', 'NETINTERCHANGE']\n"
     ]
    }
   ],
   "source": [
    "print(defaults.table_columns['DAILY_REGION_SUMMARY'])"
   ]
  },
  {
   "cell_type": "code",
   "execution_count": 14,
   "id": "79d4ad6c-e05b-4193-82f1-3e7891338cec",
   "metadata": {},
   "outputs": [
    {
     "name": "stdout",
     "output_type": "stream",
     "text": [
      "['INTERVAL_DATETIME', 'REGIONID', 'POWER', 'QI', 'TYPE', 'LASTCHANGED']\n"
     ]
    }
   ],
   "source": [
    "print(defaults.table_columns['ROOFTOP_PV_ACTUAL'])"
   ]
  },
  {
   "cell_type": "code",
   "execution_count": null,
   "id": "91e7d077-2917-488b-9c59-1195dbef080e",
   "metadata": {},
   "outputs": [],
   "source": []
  }
 ],
 "metadata": {
  "kernelspec": {
   "display_name": "Python 3 (ipykernel)",
   "language": "python",
   "name": "python3"
  },
  "language_info": {
   "codemirror_mode": {
    "name": "ipython",
    "version": 3
   },
   "file_extension": ".py",
   "mimetype": "text/x-python",
   "name": "python",
   "nbconvert_exporter": "python",
   "pygments_lexer": "ipython3",
   "version": "3.12.7"
  }
 },
 "nbformat": 4,
 "nbformat_minor": 5
}
