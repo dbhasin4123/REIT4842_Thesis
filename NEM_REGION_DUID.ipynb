{
 "cells": [
  {
   "cell_type": "code",
   "execution_count": 1,
   "id": "e503681b-9207-4b27-b089-6bcecd09b283",
   "metadata": {},
   "outputs": [
    {
     "name": "stdout",
     "output_type": "stream",
     "text": [
      "['ELEMENTS_FCAS_4_SECOND', 'VARIABLES_FCAS_4_SECOND', 'Generators and Scheduled Loads', 'FCAS Providers']\n"
     ]
    }
   ],
   "source": [
    "from nemosis import defaults\n",
    "from nemosis import dynamic_data_compiler\n",
    "\n",
    "print(defaults.static_tables)"
   ]
  },
  {
   "cell_type": "code",
   "execution_count": 2,
   "id": "47e66be5-4976-42a1-929d-f1642bacef35",
   "metadata": {},
   "outputs": [
    {
     "name": "stdout",
     "output_type": "stream",
     "text": [
      "INFO: Retrieving static table Generators and Scheduled Loads\n",
      "WARNING: {'Reg Cap (MW)'} not in D:\\NEM_cache\\NEM Registration and Exemption List.xls. Loading ['Participant', 'Station Name', 'Region', 'Dispatch Type', 'Category', 'Classification', 'Fuel Source - Primary', 'Fuel Source - Descriptor', 'Technology Type - Primary', 'Technology Type - Descriptor', 'Aggregation', 'DUID']\n"
     ]
    }
   ],
   "source": [
    "from nemosis import static_table\n",
    "\n",
    "raw_data_cache = r'D:\\NEM_cache'\n",
    "gen = static_table('Generators and Scheduled Loads', raw_data_cache)"
   ]
  },
  {
   "cell_type": "code",
   "execution_count": 3,
   "id": "f3bfbb61-6940-481c-96b7-cbc609837927",
   "metadata": {},
   "outputs": [
    {
     "data": {
      "text/html": [
       "<div>\n",
       "<style scoped>\n",
       "    .dataframe tbody tr th:only-of-type {\n",
       "        vertical-align: middle;\n",
       "    }\n",
       "\n",
       "    .dataframe tbody tr th {\n",
       "        vertical-align: top;\n",
       "    }\n",
       "\n",
       "    .dataframe thead th {\n",
       "        text-align: right;\n",
       "    }\n",
       "</style>\n",
       "<table border=\"1\" class=\"dataframe\">\n",
       "  <thead>\n",
       "    <tr style=\"text-align: right;\">\n",
       "      <th></th>\n",
       "      <th>Participant</th>\n",
       "      <th>Station Name</th>\n",
       "      <th>Region</th>\n",
       "      <th>Dispatch Type</th>\n",
       "      <th>Category</th>\n",
       "      <th>Classification</th>\n",
       "      <th>Fuel Source - Primary</th>\n",
       "      <th>Fuel Source - Descriptor</th>\n",
       "      <th>Technology Type - Primary</th>\n",
       "      <th>Technology Type - Descriptor</th>\n",
       "      <th>Aggregation</th>\n",
       "      <th>DUID</th>\n",
       "    </tr>\n",
       "  </thead>\n",
       "  <tbody>\n",
       "    <tr>\n",
       "      <th>0</th>\n",
       "      <td>South Australian Water Corporation</td>\n",
       "      <td>Adelaide Desalination Plant</td>\n",
       "      <td>SA1</td>\n",
       "      <td>Generating Unit</td>\n",
       "      <td>Market</td>\n",
       "      <td>Scheduled</td>\n",
       "      <td>Battery storage</td>\n",
       "      <td>Grid</td>\n",
       "      <td>Storage</td>\n",
       "      <td>Battery and Inverter</td>\n",
       "      <td>Y</td>\n",
       "      <td>ADPBA1G</td>\n",
       "    </tr>\n",
       "    <tr>\n",
       "      <th>1</th>\n",
       "      <td>South Australian Water Corporation</td>\n",
       "      <td>Adelaide Desalination Plant</td>\n",
       "      <td>SA1</td>\n",
       "      <td>Load</td>\n",
       "      <td>Market</td>\n",
       "      <td>Scheduled</td>\n",
       "      <td>Battery storage</td>\n",
       "      <td>Grid</td>\n",
       "      <td>Storage</td>\n",
       "      <td>Battery and Inverter</td>\n",
       "      <td>Y</td>\n",
       "      <td>ADPBA1L</td>\n",
       "    </tr>\n",
       "    <tr>\n",
       "      <th>2</th>\n",
       "      <td>South Australian Water Corporation</td>\n",
       "      <td>Adelaide Desalination Plant</td>\n",
       "      <td>SA1</td>\n",
       "      <td>Generating Unit</td>\n",
       "      <td>Market</td>\n",
       "      <td>Non-Scheduled</td>\n",
       "      <td>Hydro</td>\n",
       "      <td>Water</td>\n",
       "      <td>Renewable</td>\n",
       "      <td>Run of River</td>\n",
       "      <td>Y</td>\n",
       "      <td>ADPMH1</td>\n",
       "    </tr>\n",
       "    <tr>\n",
       "      <th>3</th>\n",
       "      <td>South Australian Water Corporation</td>\n",
       "      <td>Adelaide Desalination Plant</td>\n",
       "      <td>SA1</td>\n",
       "      <td>Generating Unit</td>\n",
       "      <td>Market</td>\n",
       "      <td>Semi-Scheduled</td>\n",
       "      <td>Solar</td>\n",
       "      <td>Solar</td>\n",
       "      <td>Renewable</td>\n",
       "      <td>Photovoltaic Tracking Flat panel</td>\n",
       "      <td>Y</td>\n",
       "      <td>ADPPV1</td>\n",
       "    </tr>\n",
       "    <tr>\n",
       "      <th>4</th>\n",
       "      <td>South Australian Water Corporation</td>\n",
       "      <td>Adelaide Desalination Plant</td>\n",
       "      <td>SA1</td>\n",
       "      <td>Generating Unit</td>\n",
       "      <td>Market</td>\n",
       "      <td>Non-Scheduled</td>\n",
       "      <td>Solar</td>\n",
       "      <td>Solar</td>\n",
       "      <td>Renewable</td>\n",
       "      <td>Photovoltaic Flat panel</td>\n",
       "      <td>Y</td>\n",
       "      <td>ADPPV2</td>\n",
       "    </tr>\n",
       "  </tbody>\n",
       "</table>\n",
       "</div>"
      ],
      "text/plain": [
       "                          Participant                 Station Name Region  \\\n",
       "0  South Australian Water Corporation  Adelaide Desalination Plant    SA1   \n",
       "1  South Australian Water Corporation  Adelaide Desalination Plant    SA1   \n",
       "2  South Australian Water Corporation  Adelaide Desalination Plant    SA1   \n",
       "3  South Australian Water Corporation  Adelaide Desalination Plant    SA1   \n",
       "4  South Australian Water Corporation  Adelaide Desalination Plant    SA1   \n",
       "\n",
       "     Dispatch Type Category  Classification Fuel Source - Primary  \\\n",
       "0  Generating Unit   Market       Scheduled       Battery storage   \n",
       "1             Load   Market       Scheduled       Battery storage   \n",
       "2  Generating Unit   Market   Non-Scheduled                 Hydro   \n",
       "3  Generating Unit   Market  Semi-Scheduled                 Solar   \n",
       "4  Generating Unit   Market   Non-Scheduled                 Solar   \n",
       "\n",
       "  Fuel Source - Descriptor Technology Type - Primary  \\\n",
       "0                     Grid                   Storage   \n",
       "1                     Grid                   Storage   \n",
       "2                    Water                 Renewable   \n",
       "3                    Solar                 Renewable   \n",
       "4                    Solar                 Renewable   \n",
       "\n",
       "       Technology Type - Descriptor Aggregation     DUID  \n",
       "0              Battery and Inverter           Y  ADPBA1G  \n",
       "1              Battery and Inverter           Y  ADPBA1L  \n",
       "2                      Run of River           Y   ADPMH1  \n",
       "3  Photovoltaic Tracking Flat panel           Y   ADPPV1  \n",
       "4           Photovoltaic Flat panel           Y   ADPPV2  "
      ]
     },
     "execution_count": 3,
     "metadata": {},
     "output_type": "execute_result"
    }
   ],
   "source": [
    "gen.head()"
   ]
  },
  {
   "cell_type": "code",
   "execution_count": 5,
   "id": "8c7285e0-4ec4-4903-9268-e7e8405e5ee0",
   "metadata": {},
   "outputs": [
    {
     "data": {
      "text/plain": [
       "array(['SA1', 'NSW1', 'VIC1', 'QLD1', 'TAS1'], dtype=object)"
      ]
     },
     "execution_count": 5,
     "metadata": {},
     "output_type": "execute_result"
    }
   ],
   "source": [
    "gen['Region'].unique()\n"
   ]
  },
  {
   "cell_type": "code",
   "execution_count": 14,
   "id": "737d933b-2e55-4a7e-8ac7-d13ee5d21635",
   "metadata": {},
   "outputs": [],
   "source": [
    "sheet_names = gen['Region'].unique()\n",
    "import pandas as pd\n",
    "\n",
    "with pd.ExcelWriter(\"NEM_Region_duids.xlsx\") as writer:\n",
    "    for sheet in sheet_names:\n",
    "        pd.DataFrame().to_excel(writer, sheet_name=sheet, index=False)\n"
   ]
  },
  {
   "cell_type": "code",
   "execution_count": 15,
   "id": "700391bc-5f05-4809-8da2-c02cd9b36d79",
   "metadata": {},
   "outputs": [],
   "source": [
    "solar_qld = gen.loc[(gen[\"Fuel Source - Descriptor\"] == \"Solar\") & (gen[\"Region\"] == \"QLD1\"), \"DUID\"].tolist()\n",
    "wind_qld = gen.loc[(gen[\"Fuel Source - Descriptor\"] == \"Wind\") & (gen[\"Region\"] == \"QLD1\"), \"DUID\"].tolist()\n",
    "coal_qld = gen.loc[(gen[\"Fuel Source - Descriptor\"] == (\"Black Coal\" or \"Brown Coal\") ) & (gen[\"Region\"] == \"QLD1\"), \"DUID\"].tolist()\n",
    "natural_gas_qld = gen.loc[(gen[\"Fuel Source - Descriptor\"] == (\"Natural Gas\" or \"Natural Gas / Diesel\" or \"Natural Gas / Fuel Oil\")) & (gen[\"Region\"] == \"QLD1\"), \"DUID\"].tolist()"
   ]
  },
  {
   "cell_type": "code",
   "execution_count": 24,
   "id": "a6655941-2802-4a78-b417-e0250d93c8d9",
   "metadata": {},
   "outputs": [],
   "source": [
    "from itertools import zip_longest\n",
    "\n",
    "file_name = \"NEM_Region_duids.xlsx\"\n",
    "\n",
    "data = list(zip_longest(solar_qld, wind_qld, coal_qld, natural_gas_qld, fillvalue=None))\n",
    "\n",
    "# Create a DataFrame with different-length lists\n",
    "df_qld1 = pd.DataFrame(data, columns=[\"Solar DUID\", \"Wind DUID\", \"Coal DUID\", \"Natural Gas DUID\"])\n",
    "\n",
    "\n",
    "with pd.ExcelWriter(file_name, mode=\"a\", if_sheet_exists=\"replace\") as writer:\n",
    "    df_qld1.to_excel(writer, sheet_name=\"QLD1\", index=False)"
   ]
  },
  {
   "cell_type": "code",
   "execution_count": 26,
   "id": "e7de49d6-6e62-4b59-b7d5-1e5efab96387",
   "metadata": {},
   "outputs": [],
   "source": [
    "import pandas as pd\n",
    "from itertools import zip_longest\n",
    "\n",
    "# Load data (assuming `gen` is a DataFrame containing all regions)\n",
    "file_name = \"NEM_Region_duids.xlsx\"\n",
    "\n",
    "regions = [\"SA1\", \"NSW1\", \"VIC1\", \"QLD1\", \"TAS1\"]\n",
    "fuel_types = {\n",
    "    \"Solar\": \"Solar\",\n",
    "    \"Wind\": \"Wind\",\n",
    "    \"Coal\": [\"Black Coal\", \"Brown Coal\"],\n",
    "    \"Natural Gas\": [\"Natural Gas\", \"Natural Gas / Diesel\", \"Natural Gas / Fuel Oil\"]\n",
    "}\n",
    "\n",
    "# Dictionary to store data for all regions\n",
    "region_data = {}\n",
    "\n",
    "for region in regions:\n",
    "    solar = gen.loc[(gen[\"Fuel Source - Descriptor\"] == fuel_types[\"Solar\"]) & (gen[\"Region\"] == region), \"DUID\"].tolist()\n",
    "    wind = gen.loc[(gen[\"Fuel Source - Descriptor\"] == fuel_types[\"Wind\"]) & (gen[\"Region\"] == region), \"DUID\"].tolist()\n",
    "    coal = gen.loc[gen[\"Fuel Source - Descriptor\"].isin(fuel_types[\"Coal\"]) & (gen[\"Region\"] == region), \"DUID\"].tolist()\n",
    "    natural_gas = gen.loc[gen[\"Fuel Source - Descriptor\"].isin(fuel_types[\"Natural Gas\"]) & (gen[\"Region\"] == region), \"DUID\"].tolist()\n",
    "\n",
    "    # Store extracted data\n",
    "    data = list(zip_longest(solar, wind, coal, natural_gas, fillvalue=None))\n",
    "    df = pd.DataFrame(data, columns=[\"Solar DUID\", \"Wind DUID\", \"Coal DUID\", \"Natural Gas DUID\"])\n",
    "\n",
    "    region_data[region] = df\n",
    "\n",
    "# Write to Excel file\n",
    "with pd.ExcelWriter(file_name, mode=\"a\", if_sheet_exists=\"replace\") as writer:\n",
    "    for region, df in region_data.items():\n",
    "        df.to_excel(writer, sheet_name=region, index=False)\n"
   ]
  },
  {
   "cell_type": "code",
   "execution_count": null,
   "id": "01712cae-4404-4005-8cf4-2ee340374803",
   "metadata": {},
   "outputs": [],
   "source": []
  }
 ],
 "metadata": {
  "kernelspec": {
   "display_name": "Python 3 (ipykernel)",
   "language": "python",
   "name": "python3"
  },
  "language_info": {
   "codemirror_mode": {
    "name": "ipython",
    "version": 3
   },
   "file_extension": ".py",
   "mimetype": "text/x-python",
   "name": "python",
   "nbconvert_exporter": "python",
   "pygments_lexer": "ipython3",
   "version": "3.12.7"
  }
 },
 "nbformat": 4,
 "nbformat_minor": 5
}
