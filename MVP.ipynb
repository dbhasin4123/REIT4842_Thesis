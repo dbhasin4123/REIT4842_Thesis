{
 "cells": [
  {
   "cell_type": "code",
   "execution_count": 1,
   "id": "2e342d2a-b26e-4205-bb48-b501c38e8c2e",
   "metadata": {},
   "outputs": [],
   "source": [
    "from nemosis import dynamic_data_compiler"
   ]
  },
  {
   "cell_type": "code",
   "execution_count": 32,
   "id": "f83c8a07-0b0a-4923-9711-ae2430b68545",
   "metadata": {},
   "outputs": [],
   "source": [
    "start_time = '2024/01/01 00:00:00'\n",
    "end_time = '2025/01/01 00:00:00'\n",
    "table = 'DISPATCHPRICE'\n",
    "raw_data_cache = r'D:\\NEM_cache'"
   ]
  },
  {
   "cell_type": "code",
   "execution_count": 33,
   "id": "1ee71d25-fd8d-4338-a927-b6e20806070c",
   "metadata": {},
   "outputs": [
    {
     "name": "stdout",
     "output_type": "stream",
     "text": [
      "INFO: Compiling data for table DISPATCHPRICE\n",
      "INFO: Returning DISPATCHPRICE.\n"
     ]
    }
   ],
   "source": [
    "price_data = dynamic_data_compiler(start_time, end_time, table, raw_data_cache)"
   ]
  },
  {
   "cell_type": "code",
   "execution_count": 34,
   "id": "fd135adb-7497-4fbe-afd1-30055d00f70e",
   "metadata": {},
   "outputs": [
    {
     "name": "stdout",
     "output_type": "stream",
     "text": [
      "INFO: Compiling data for table DISPATCHREGIONSUM\n",
      "INFO: Returning DISPATCHREGIONSUM.\n"
     ]
    }
   ],
   "source": [
    "table = 'DISPATCHREGIONSUM'\n",
    "demand_data = dynamic_data_compiler(start_time, end_time, table, raw_data_cache)"
   ]
  },
  {
   "cell_type": "code",
   "execution_count": 35,
   "id": "88f30de0-dcfa-4fd3-9a28-ab61e92c1b36",
   "metadata": {},
   "outputs": [
    {
     "name": "stdout",
     "output_type": "stream",
     "text": [
      "INFO: Compiling data for table DISPATCHLOAD\n",
      "INFO: Returning DISPATCHLOAD.\n"
     ]
    }
   ],
   "source": [
    "table = 'DISPATCHLOAD'\n",
    "load_data = dynamic_data_compiler(start_time, end_time, table, raw_data_cache, select_columns=['SETTLEMENTDATE', 'AVAILABILITY', 'DUID', 'RAMPUPRATE', 'TOTALCLEARED'])"
   ]
  },
  {
   "cell_type": "code",
   "execution_count": 36,
   "id": "3e4117a4-edad-4f8a-b9ca-b6ea8e441a0a",
   "metadata": {},
   "outputs": [
    {
     "name": "stdout",
     "output_type": "stream",
     "text": [
      "Number of high RRP days: 39\n",
      "Number of high demand days: 15\n",
      "Number of high gap days: 9\n",
      "Number of high demand but not high RRP days: 3\n",
      "{datetime.date(2024, 8, 19), datetime.date(2024, 6, 24), datetime.date(2024, 7, 8)}\n",
      "Number of high gap but not high RRP days: 3\n",
      "{datetime.date(2024, 6, 2), datetime.date(2024, 6, 3), datetime.date(2024, 6, 6)}\n",
      "Number of days meeting any condition: 45\n",
      "Dates: [datetime.date(2024, 1, 31), datetime.date(2024, 2, 13), datetime.date(2024, 2, 22), datetime.date(2024, 3, 1), datetime.date(2024, 3, 2), datetime.date(2024, 5, 24), datetime.date(2024, 6, 2), datetime.date(2024, 6, 3), datetime.date(2024, 6, 4), datetime.date(2024, 6, 6), datetime.date(2024, 6, 13), datetime.date(2024, 6, 14), datetime.date(2024, 6, 15), datetime.date(2024, 6, 17), datetime.date(2024, 6, 18), datetime.date(2024, 6, 19), datetime.date(2024, 6, 20), datetime.date(2024, 6, 21), datetime.date(2024, 6, 22), datetime.date(2024, 6, 23), datetime.date(2024, 6, 24), datetime.date(2024, 6, 25), datetime.date(2024, 6, 27), datetime.date(2024, 7, 1), datetime.date(2024, 7, 2), datetime.date(2024, 7, 3), datetime.date(2024, 7, 4), datetime.date(2024, 7, 5), datetime.date(2024, 7, 8), datetime.date(2024, 7, 10), datetime.date(2024, 7, 11), datetime.date(2024, 7, 12), datetime.date(2024, 7, 28), datetime.date(2024, 7, 29), datetime.date(2024, 7, 30), datetime.date(2024, 7, 31), datetime.date(2024, 8, 1), datetime.date(2024, 8, 5), datetime.date(2024, 8, 19), datetime.date(2024, 8, 20), datetime.date(2024, 8, 28), datetime.date(2024, 10, 20), datetime.date(2024, 10, 23), datetime.date(2024, 12, 3), datetime.date(2024, 12, 17)]\n"
     ]
    }
   ],
   "source": [
    "import pandas as pd\n",
    "\n",
    "# Convert SETTLEMENTDATE to datetime\n",
    "price_data['SETTLEMENTDATE'] = pd.to_datetime(price_data['SETTLEMENTDATE'])\n",
    "demand_data['SETTLEMENTDATE'] = pd.to_datetime(demand_data['SETTLEMENTDATE'])\n",
    "load_data['SETTLEMENTDATE'] = pd.to_datetime(load_data['SETTLEMENTDATE'])\n",
    "\n",
    "# Add date columns\n",
    "price_data['date'] = price_data['SETTLEMENTDATE'].dt.date\n",
    "demand_data['date'] = demand_data['SETTLEMENTDATE'].dt.date\n",
    "load_data['date'] = load_data['SETTLEMENTDATE'].dt.date\n",
    "\n",
    "file_name = \"NEM_Region_duids.xlsx\"\n",
    "df_qld = pd.read_excel(file_name, sheet_name=\"TAS1\")\n",
    "\n",
    "# Drop NaN values and convert to a list\n",
    "natural_gas_qld = df_qld[\"Natural Gas DUID\"].dropna().tolist()\n",
    "coal_qld = df_qld[\"Coal DUID\"].dropna().tolist()\n",
    "solar_qld = df_qld[\"Solar DUID\"].dropna().tolist()\n",
    "wind_qld = df_qld[\"Wind DUID\"].dropna().tolist()\n",
    "duids_list = coal_qld + natural_gas_qld\n",
    "\n",
    "# Filter for QLD region\n",
    "qld_price = price_data[price_data['REGIONID'] == 'TAS1'].copy()\n",
    "qld_demand = demand_data[demand_data['REGIONID'] == 'TAS1'].copy()\n",
    "\n",
    "# Filter load data to only include coal and natural gas DUIDs from QLD\n",
    "filtered_load = load_data[load_data['DUID'].isin(duids_list)].copy()\n",
    "\n",
    "# Calculate daily maximum RRP\n",
    "daily_max_rrp = qld_price.groupby('date')['RRP'].max().reset_index()\n",
    "daily_max_rrp.rename(columns={'RRP': 'max_RRP'}, inplace=True)\n",
    "\n",
    "# Calculate daily maximum demand\n",
    "daily_max_demand = qld_demand.groupby('date')['TOTALDEMAND'].max().reset_index()\n",
    "daily_max_demand.rename(columns={'TOTALDEMAND': 'max_DEMAND'}, inplace=True)\n",
    "\n",
    "# For availability calculation, first sum by timestamp and DUID\n",
    "# Group by timestamp and sum AVAILABILITY across all DUIDs\n",
    "availability_sum = filtered_load.groupby('SETTLEMENTDATE')['AVAILABILITY'].sum().reset_index()\n",
    "availability_sum['date'] = availability_sum['SETTLEMENTDATE'].dt.date\n",
    "\n",
    "# Extract required columns from demand data\n",
    "demand_data_subset = qld_demand[['SETTLEMENTDATE', 'TOTALDEMAND']].copy()\n",
    "\n",
    "# Merge availability with demand on timestamp\n",
    "merged_data = pd.merge(demand_data_subset, availability_sum, on='SETTLEMENTDATE', how='inner')\n",
    "\n",
    "# Calculate gap for each timestamp\n",
    "merged_data['availability_demand_gap'] = merged_data['TOTALDEMAND'] - merged_data['AVAILABILITY']\n",
    "\n",
    "# Add date column to merged data\n",
    "merged_data['date'] = merged_data['SETTLEMENTDATE'].dt.date\n",
    "\n",
    "# Calculate daily maximum gap\n",
    "daily_max_gap = merged_data.groupby('date')['availability_demand_gap'].max().reset_index()\n",
    "daily_max_gap.rename(columns={'availability_demand_gap': 'max_GAP'}, inplace=True)\n",
    "\n",
    "# Create consolidated dataframe of all dates\n",
    "# Get all unique dates from all three dataframes\n",
    "all_dates = pd.concat([\n",
    "    daily_max_rrp['date'],\n",
    "    daily_max_demand['date'],\n",
    "    daily_max_gap['date']\n",
    "]).unique()\n",
    "\n",
    "# Create a dataframe with all dates\n",
    "consolidated_df = pd.DataFrame({'date': all_dates})\n",
    "\n",
    "# Merge all metrics into the consolidated dataframe\n",
    "consolidated_df = pd.merge(consolidated_df, daily_max_rrp, on='date', how='left')\n",
    "consolidated_df = pd.merge(consolidated_df, daily_max_demand, on='date', how='left')\n",
    "consolidated_df = pd.merge(consolidated_df, daily_max_gap, on='date', how='left')\n",
    "\n",
    "# Sort by date\n",
    "consolidated_df.sort_values('date', inplace=True)\n",
    "\n",
    "# Thresholds\n",
    "rrp_thresh = 450.42  # 0.013\n",
    "demand_thresh = 1618.11  # 0.077\n",
    "gap_thresh = 1520.17  # 0.078\n",
    "\n",
    "# Apply conditions\n",
    "consolidated_df['high_RRP'] = consolidated_df['max_RRP'] > rrp_thresh\n",
    "consolidated_df['high_DEMAND'] = consolidated_df['max_DEMAND'] > demand_thresh\n",
    "consolidated_df['high_GAP'] = consolidated_df['max_GAP'] > gap_thresh\n",
    "consolidated_df['any_condition'] = (\n",
    "    consolidated_df['high_RRP'] | \n",
    "    consolidated_df['high_DEMAND'] | \n",
    "    consolidated_df['high_GAP']\n",
    ")\n",
    "\n",
    "# Create sets for analysis\n",
    "rrp_days = set(consolidated_df[consolidated_df['high_RRP'] == True]['date'])\n",
    "demand_days = set(consolidated_df[consolidated_df['high_DEMAND'] == True]['date'])\n",
    "gap_days = set(consolidated_df[consolidated_df['high_GAP'] == True]['date'])\n",
    "common_days = set(consolidated_df[consolidated_df['any_condition'] == True]['date'])\n",
    "\n",
    "# Print results\n",
    "print(f\"Number of high RRP days: {len(rrp_days)}\")\n",
    "print(f\"Number of high demand days: {len(demand_days)}\")\n",
    "print(f\"Number of high gap days: {len(gap_days)}\")\n",
    "\n",
    "days = demand_days - rrp_days\n",
    "print(f\"Number of high demand but not high RRP days: {len(days)}\")\n",
    "print(days)\n",
    "\n",
    "days = gap_days - rrp_days\n",
    "print(f\"Number of high gap but not high RRP days: {len(days)}\")\n",
    "print(days)\n",
    "\n",
    "print(f\"Number of days meeting any condition: {len(common_days)}\")\n",
    "print(\"Dates:\", sorted(common_days))\n",
    "\n",
    "# Optional: Save the consolidated dataframe\n",
    "consolidated_df.to_csv('daily_energy_metrics_2024.csv', index=False)"
   ]
  },
  {
   "cell_type": "code",
   "execution_count": 23,
   "id": "7b723b67-9987-4c1f-bdcf-c2c4a58f7f2b",
   "metadata": {},
   "outputs": [
    {
     "data": {
      "application/vnd.plotly.v1+json": {
       "config": {
        "plotlyServerURL": "https://plot.ly"
       },
       "data": [
        {
         "hovertemplate": "Date=%{x}<br>Maximum Regional Reference Price ($/MWh)=%{y}<extra></extra>",
         "legendgroup": "",
         "line": {
          "color": "#636efa",
          "dash": "solid",
          "shape": "linear"
         },
         "marker": {
          "size": 5,
          "symbol": "circle"
         },
         "mode": "lines+markers",
         "name": "",
         "orientation": "v",
         "showlegend": false,
         "type": "scatter",
         "x": [
          "2023-01-01",
          "2023-01-02",
          "2023-01-03",
          "2023-01-04",
          "2023-01-05",
          "2023-01-06",
          "2023-01-07",
          "2023-01-08",
          "2023-01-09",
          "2023-01-10",
          "2023-01-11",
          "2023-01-12",
          "2023-01-13",
          "2023-01-14",
          "2023-01-15",
          "2023-01-16",
          "2023-01-17",
          "2023-01-18",
          "2023-01-19",
          "2023-01-20",
          "2023-01-21",
          "2023-01-22",
          "2023-01-23",
          "2023-01-24",
          "2023-01-25",
          "2023-01-26",
          "2023-01-27",
          "2023-01-28",
          "2023-01-29",
          "2023-01-30",
          "2023-01-31",
          "2023-02-01",
          "2023-02-02",
          "2023-02-03",
          "2023-02-04",
          "2023-02-05",
          "2023-02-06",
          "2023-02-07",
          "2023-02-08",
          "2023-02-09",
          "2023-02-10",
          "2023-02-11",
          "2023-02-12",
          "2023-02-13",
          "2023-02-14",
          "2023-02-15",
          "2023-02-16",
          "2023-02-17",
          "2023-02-18",
          "2023-02-19",
          "2023-02-20",
          "2023-02-21",
          "2023-02-22",
          "2023-02-23",
          "2023-02-24",
          "2023-02-25",
          "2023-02-26",
          "2023-02-27",
          "2023-02-28",
          "2023-03-01",
          "2023-03-02",
          "2023-03-03",
          "2023-03-04",
          "2023-03-05",
          "2023-03-06",
          "2023-03-07",
          "2023-03-08",
          "2023-03-09",
          "2023-03-10",
          "2023-03-11",
          "2023-03-12",
          "2023-03-13",
          "2023-03-14",
          "2023-03-15",
          "2023-03-16",
          "2023-03-17",
          "2023-03-18",
          "2023-03-19",
          "2023-03-20",
          "2023-03-21",
          "2023-03-22",
          "2023-03-23",
          "2023-03-24",
          "2023-03-25",
          "2023-03-26",
          "2023-03-27",
          "2023-03-28",
          "2023-03-29",
          "2023-03-30",
          "2023-03-31",
          "2023-04-01",
          "2023-04-02",
          "2023-04-03",
          "2023-04-04",
          "2023-04-05",
          "2023-04-06",
          "2023-04-07",
          "2023-04-08",
          "2023-04-09",
          "2023-04-10",
          "2023-04-11",
          "2023-04-12",
          "2023-04-13",
          "2023-04-14",
          "2023-04-15",
          "2023-04-16",
          "2023-04-17",
          "2023-04-18",
          "2023-04-19",
          "2023-04-20",
          "2023-04-21",
          "2023-04-22",
          "2023-04-23",
          "2023-04-24",
          "2023-04-25",
          "2023-04-26",
          "2023-04-27",
          "2023-04-28",
          "2023-04-29",
          "2023-04-30",
          "2023-05-01",
          "2023-05-02",
          "2023-05-03",
          "2023-05-04",
          "2023-05-05",
          "2023-05-06",
          "2023-05-07",
          "2023-05-08",
          "2023-05-09",
          "2023-05-10",
          "2023-05-11",
          "2023-05-12",
          "2023-05-13",
          "2023-05-14",
          "2023-05-15",
          "2023-05-16",
          "2023-05-17",
          "2023-05-18",
          "2023-05-19",
          "2023-05-20",
          "2023-05-21",
          "2023-05-22",
          "2023-05-23",
          "2023-05-24",
          "2023-05-25",
          "2023-05-26",
          "2023-05-27",
          "2023-05-28",
          "2023-05-29",
          "2023-05-30",
          "2023-05-31",
          "2023-06-01",
          "2023-06-02",
          "2023-06-03",
          "2023-06-04",
          "2023-06-05",
          "2023-06-06",
          "2023-06-07",
          "2023-06-08",
          "2023-06-09",
          "2023-06-10",
          "2023-06-11",
          "2023-06-12",
          "2023-06-13",
          "2023-06-14",
          "2023-06-15",
          "2023-06-16",
          "2023-06-17",
          "2023-06-18",
          "2023-06-19",
          "2023-06-20",
          "2023-06-21",
          "2023-06-22",
          "2023-06-23",
          "2023-06-24",
          "2023-06-25",
          "2023-06-26",
          "2023-06-27",
          "2023-06-28",
          "2023-06-29",
          "2023-06-30",
          "2023-07-01",
          "2023-07-02",
          "2023-07-03",
          "2023-07-04",
          "2023-07-05",
          "2023-07-06",
          "2023-07-07",
          "2023-07-08",
          "2023-07-09",
          "2023-07-10",
          "2023-07-11",
          "2023-07-12",
          "2023-07-13",
          "2023-07-14",
          "2023-07-15",
          "2023-07-16",
          "2023-07-17",
          "2023-07-18",
          "2023-07-19",
          "2023-07-20",
          "2023-07-21",
          "2023-07-22",
          "2023-07-23",
          "2023-07-24",
          "2023-07-25",
          "2023-07-26",
          "2023-07-27",
          "2023-07-28",
          "2023-07-29",
          "2023-07-30",
          "2023-07-31",
          "2023-08-01",
          "2023-08-02",
          "2023-08-03",
          "2023-08-04",
          "2023-08-05",
          "2023-08-06",
          "2023-08-07",
          "2023-08-08",
          "2023-08-09",
          "2023-08-10",
          "2023-08-11",
          "2023-08-12",
          "2023-08-13",
          "2023-08-14",
          "2023-08-15",
          "2023-08-16",
          "2023-08-17",
          "2023-08-18",
          "2023-08-19",
          "2023-08-20",
          "2023-08-21",
          "2023-08-22",
          "2023-08-23",
          "2023-08-24",
          "2023-08-25",
          "2023-08-26",
          "2023-08-27",
          "2023-08-28",
          "2023-08-29",
          "2023-08-30",
          "2023-08-31",
          "2023-09-01",
          "2023-09-02",
          "2023-09-03",
          "2023-09-04",
          "2023-09-05",
          "2023-09-06",
          "2023-09-07",
          "2023-09-08",
          "2023-09-09",
          "2023-09-10",
          "2023-09-11",
          "2023-09-12",
          "2023-09-13",
          "2023-09-14",
          "2023-09-15",
          "2023-09-16",
          "2023-09-17",
          "2023-09-18",
          "2023-09-19",
          "2023-09-20",
          "2023-09-21",
          "2023-09-22",
          "2023-09-23",
          "2023-09-24",
          "2023-09-25",
          "2023-09-26",
          "2023-09-27",
          "2023-09-28",
          "2023-09-29",
          "2023-09-30",
          "2023-10-01",
          "2023-10-02",
          "2023-10-03",
          "2023-10-04",
          "2023-10-05",
          "2023-10-06",
          "2023-10-07",
          "2023-10-08",
          "2023-10-09",
          "2023-10-10",
          "2023-10-11",
          "2023-10-12",
          "2023-10-13",
          "2023-10-14",
          "2023-10-15",
          "2023-10-16",
          "2023-10-17",
          "2023-10-18",
          "2023-10-19",
          "2023-10-20",
          "2023-10-21",
          "2023-10-22",
          "2023-10-23",
          "2023-10-24",
          "2023-10-25",
          "2023-10-26",
          "2023-10-27",
          "2023-10-28",
          "2023-10-29",
          "2023-10-30",
          "2023-10-31",
          "2023-11-01",
          "2023-11-02",
          "2023-11-03",
          "2023-11-04",
          "2023-11-05",
          "2023-11-06",
          "2023-11-07",
          "2023-11-08",
          "2023-11-09",
          "2023-11-10",
          "2023-11-11",
          "2023-11-12",
          "2023-11-13",
          "2023-11-14",
          "2023-11-15",
          "2023-11-16",
          "2023-11-17",
          "2023-11-18",
          "2023-11-19",
          "2023-11-20",
          "2023-11-21",
          "2023-11-22",
          "2023-11-23",
          "2023-11-24",
          "2023-11-25",
          "2023-11-26",
          "2023-11-27",
          "2023-11-28",
          "2023-11-29",
          "2023-11-30",
          "2023-12-01",
          "2023-12-02",
          "2023-12-03",
          "2023-12-04",
          "2023-12-05",
          "2023-12-06",
          "2023-12-07",
          "2023-12-08",
          "2023-12-09",
          "2023-12-10",
          "2023-12-11",
          "2023-12-12",
          "2023-12-13",
          "2023-12-14",
          "2023-12-15",
          "2023-12-16",
          "2023-12-17",
          "2023-12-18",
          "2023-12-19",
          "2023-12-20",
          "2023-12-21",
          "2023-12-22",
          "2023-12-23",
          "2023-12-24",
          "2023-12-25",
          "2023-12-26",
          "2023-12-27",
          "2023-12-28",
          "2023-12-29",
          "2023-12-30",
          "2023-12-31",
          "2024-01-01"
         ],
         "xaxis": "x",
         "y": [
          191.06184,
          183.2319,
          236.11,
          457.45996,
          136.81651,
          167.94101,
          193,
          382.84634,
          370.47973,
          236.11,
          286.60671,
          194,
          1304.95151,
          254.23009,
          349.01,
          165.74917,
          186.90322,
          163.73999,
          194.01,
          100.28125,
          133.4316,
          200.16,
          304.01,
          314.5672,
          349.01,
          15500,
          295.01,
          304.01,
          551,
          552,
          15500,
          563.65,
          479.93932,
          1297,
          349.01,
          1249.87,
          347.60447,
          349.73,
          225.0253,
          176.57375,
          224.38776,
          349.01,
          551,
          551,
          551,
          308.47925,
          842.11926,
          149.74,
          279.41579,
          315.45645,
          551.01,
          295.01,
          143.84189,
          289.42886,
          110.00001,
          122.69826,
          198.15297,
          174.96571,
          194.01,
          15003.26,
          246.58189,
          154.05843,
          194.02,
          562.32536,
          1297.02,
          327.31133,
          157.35801,
          316.61126,
          194.02,
          323.61192,
          205.15877,
          370.73009,
          340.77213,
          370.73023,
          15500,
          14500,
          500.53,
          13500.02,
          194.02,
          324.24012,
          293.79742,
          1171.89488,
          295.01,
          194.01,
          350.39241,
          662.9,
          2600,
          407.99012,
          341.48295,
          316.31983,
          463.94664,
          375.37826,
          394.01,
          1350,
          1297.02,
          369.62003,
          195.38054,
          192.19005,
          150.65854,
          320.67285,
          370.75,
          14950.01,
          323.0646,
          496.333,
          404.81024,
          1240,
          330.21,
          328.42616,
          370.73008,
          365.87413,
          314.11514,
          320.27208,
          332.45872,
          295.01,
          292.9363,
          800.84539,
          311.91933,
          313.52399,
          434.84701,
          449.81819,
          429.32848,
          333.1755,
          319.1927,
          412.0893,
          297.80686,
          301.00509,
          338.35401,
          296.04187,
          587.91162,
          924.94579,
          295.76297,
          294.28879,
          289.57979,
          293.20448,
          390.81913,
          414.39002,
          14930.01,
          369.62003,
          1297.0982,
          14930.01,
          370.7303,
          623.71147,
          796.33452,
          12162.73556,
          14500,
          1249.87,
          14028.16675,
          311.71765,
          1658.34043,
          14930.01,
          619,
          314.61779,
          277.18166,
          277.18166,
          370.73,
          366.75006,
          370.7303,
          375.5401,
          388.5401,
          305.42934,
          300.75792,
          279.08988,
          14930.01,
          295.01013,
          262.25084,
          1245.65,
          366.75019,
          377.27685,
          376.87191,
          15500,
          1046.87487,
          14219.28193,
          370.73009,
          194.01,
          295,
          385.863,
          324.53154,
          507.06584,
          583.7,
          445.22907,
          192.5,
          307.69158,
          294.17575,
          397.13026,
          303.61865,
          226.83996,
          887.73795,
          144.51005,
          394.42006,
          380.20044,
          370.73025,
          299.18986,
          292.39949,
          155.78577,
          156.28248,
          156.37549,
          302.93346,
          320.39988,
          383.19009,
          301.66264,
          552.75,
          293.8806,
          284.69665,
          319.73711,
          337.78481,
          343.15612,
          1167.37412,
          316.13079,
          289.42148,
          181.75239,
          194.01,
          331.0701,
          10150.56098,
          293.8623,
          307.96001,
          192.76,
          192.83593,
          303.46836,
          408.09026,
          717.59334,
          330.75668,
          4294.11035,
          299.67182,
          273.68997,
          298.20871,
          454.29275,
          1577.65,
          329.39444,
          550.69,
          209.82209,
          135.15986,
          310.44652,
          311.11126,
          302.67854,
          279.65717,
          303.4802,
          282.75168,
          194.27736,
          258.06121,
          303.68134,
          246.34445,
          298.52674,
          225.25987,
          277.03535,
          263.01,
          193.99541,
          14776.62347,
          292.10954,
          15004.02,
          264.01,
          2001.49,
          285.67859,
          221.56403,
          283.76767,
          290.68841,
          299.15893,
          202.64249,
          285.78922,
          294.56582,
          308.20836,
          309.83324,
          303.85483,
          162.67074,
          292.53941,
          264.14368,
          147.06982,
          264.03944,
          217.74,
          264.01,
          160.26731,
          145.10123,
          194.01,
          314.64423,
          74.99,
          156.07123,
          333.28049,
          416.74014,
          284.64,
          192.76,
          138.98,
          164.03788,
          181.90139,
          316.13043,
          554,
          150.27988,
          110.23373,
          137.98,
          263.01,
          14928.01,
          332.77069,
          330.6654,
          304.90335,
          138.98,
          621,
          145.2,
          234.26392,
          2125.25,
          382.39001,
          380.01,
          194.01,
          97.38845,
          330.26362,
          127.94352,
          1298.11,
          327.09707,
          315.97744,
          97.17848,
          207.42732,
          272.19937,
          230.39,
          147.12494,
          597.1871,
          388.97001,
          285.97206,
          12998.32254,
          13390.01,
          515.38576,
          573.02905,
          526,
          9810.2,
          371.09542,
          294.2492,
          380.01,
          288.68178,
          705.60198,
          270.29179,
          181.04288,
          144.73813,
          137.94556,
          295.05,
          263.01,
          155.86899,
          114.75004,
          373.06995,
          372.9806,
          370.73008,
          1309.99,
          370.7303,
          1050.2596,
          287.56,
          370.11018,
          317.70411,
          336.50199,
          263.01,
          295.64567,
          285.75001,
          263.01,
          371.02009,
          261.55,
          720.75001,
          387.53,
          343.36994,
          370.03,
          379.42444,
          4164.92,
          369.9803,
          368.55,
          171.2323,
          372.72015,
          368.75,
          368.75,
          14927.99,
          14936.02,
          370.73015,
          145.2,
          85.55
         ],
         "yaxis": "y"
        }
       ],
       "layout": {
        "autosize": true,
        "hovermode": "x unified",
        "legend": {
         "tracegroupgap": 0
        },
        "template": {
         "data": {
          "bar": [
           {
            "error_x": {
             "color": "#2a3f5f"
            },
            "error_y": {
             "color": "#2a3f5f"
            },
            "marker": {
             "line": {
              "color": "white",
              "width": 0.5
             },
             "pattern": {
              "fillmode": "overlay",
              "size": 10,
              "solidity": 0.2
             }
            },
            "type": "bar"
           }
          ],
          "barpolar": [
           {
            "marker": {
             "line": {
              "color": "white",
              "width": 0.5
             },
             "pattern": {
              "fillmode": "overlay",
              "size": 10,
              "solidity": 0.2
             }
            },
            "type": "barpolar"
           }
          ],
          "carpet": [
           {
            "aaxis": {
             "endlinecolor": "#2a3f5f",
             "gridcolor": "#C8D4E3",
             "linecolor": "#C8D4E3",
             "minorgridcolor": "#C8D4E3",
             "startlinecolor": "#2a3f5f"
            },
            "baxis": {
             "endlinecolor": "#2a3f5f",
             "gridcolor": "#C8D4E3",
             "linecolor": "#C8D4E3",
             "minorgridcolor": "#C8D4E3",
             "startlinecolor": "#2a3f5f"
            },
            "type": "carpet"
           }
          ],
          "choropleth": [
           {
            "colorbar": {
             "outlinewidth": 0,
             "ticks": ""
            },
            "type": "choropleth"
           }
          ],
          "contour": [
           {
            "colorbar": {
             "outlinewidth": 0,
             "ticks": ""
            },
            "colorscale": [
             [
              0,
              "#0d0887"
             ],
             [
              0.1111111111111111,
              "#46039f"
             ],
             [
              0.2222222222222222,
              "#7201a8"
             ],
             [
              0.3333333333333333,
              "#9c179e"
             ],
             [
              0.4444444444444444,
              "#bd3786"
             ],
             [
              0.5555555555555556,
              "#d8576b"
             ],
             [
              0.6666666666666666,
              "#ed7953"
             ],
             [
              0.7777777777777778,
              "#fb9f3a"
             ],
             [
              0.8888888888888888,
              "#fdca26"
             ],
             [
              1,
              "#f0f921"
             ]
            ],
            "type": "contour"
           }
          ],
          "contourcarpet": [
           {
            "colorbar": {
             "outlinewidth": 0,
             "ticks": ""
            },
            "type": "contourcarpet"
           }
          ],
          "heatmap": [
           {
            "colorbar": {
             "outlinewidth": 0,
             "ticks": ""
            },
            "colorscale": [
             [
              0,
              "#0d0887"
             ],
             [
              0.1111111111111111,
              "#46039f"
             ],
             [
              0.2222222222222222,
              "#7201a8"
             ],
             [
              0.3333333333333333,
              "#9c179e"
             ],
             [
              0.4444444444444444,
              "#bd3786"
             ],
             [
              0.5555555555555556,
              "#d8576b"
             ],
             [
              0.6666666666666666,
              "#ed7953"
             ],
             [
              0.7777777777777778,
              "#fb9f3a"
             ],
             [
              0.8888888888888888,
              "#fdca26"
             ],
             [
              1,
              "#f0f921"
             ]
            ],
            "type": "heatmap"
           }
          ],
          "heatmapgl": [
           {
            "colorbar": {
             "outlinewidth": 0,
             "ticks": ""
            },
            "colorscale": [
             [
              0,
              "#0d0887"
             ],
             [
              0.1111111111111111,
              "#46039f"
             ],
             [
              0.2222222222222222,
              "#7201a8"
             ],
             [
              0.3333333333333333,
              "#9c179e"
             ],
             [
              0.4444444444444444,
              "#bd3786"
             ],
             [
              0.5555555555555556,
              "#d8576b"
             ],
             [
              0.6666666666666666,
              "#ed7953"
             ],
             [
              0.7777777777777778,
              "#fb9f3a"
             ],
             [
              0.8888888888888888,
              "#fdca26"
             ],
             [
              1,
              "#f0f921"
             ]
            ],
            "type": "heatmapgl"
           }
          ],
          "histogram": [
           {
            "marker": {
             "pattern": {
              "fillmode": "overlay",
              "size": 10,
              "solidity": 0.2
             }
            },
            "type": "histogram"
           }
          ],
          "histogram2d": [
           {
            "colorbar": {
             "outlinewidth": 0,
             "ticks": ""
            },
            "colorscale": [
             [
              0,
              "#0d0887"
             ],
             [
              0.1111111111111111,
              "#46039f"
             ],
             [
              0.2222222222222222,
              "#7201a8"
             ],
             [
              0.3333333333333333,
              "#9c179e"
             ],
             [
              0.4444444444444444,
              "#bd3786"
             ],
             [
              0.5555555555555556,
              "#d8576b"
             ],
             [
              0.6666666666666666,
              "#ed7953"
             ],
             [
              0.7777777777777778,
              "#fb9f3a"
             ],
             [
              0.8888888888888888,
              "#fdca26"
             ],
             [
              1,
              "#f0f921"
             ]
            ],
            "type": "histogram2d"
           }
          ],
          "histogram2dcontour": [
           {
            "colorbar": {
             "outlinewidth": 0,
             "ticks": ""
            },
            "colorscale": [
             [
              0,
              "#0d0887"
             ],
             [
              0.1111111111111111,
              "#46039f"
             ],
             [
              0.2222222222222222,
              "#7201a8"
             ],
             [
              0.3333333333333333,
              "#9c179e"
             ],
             [
              0.4444444444444444,
              "#bd3786"
             ],
             [
              0.5555555555555556,
              "#d8576b"
             ],
             [
              0.6666666666666666,
              "#ed7953"
             ],
             [
              0.7777777777777778,
              "#fb9f3a"
             ],
             [
              0.8888888888888888,
              "#fdca26"
             ],
             [
              1,
              "#f0f921"
             ]
            ],
            "type": "histogram2dcontour"
           }
          ],
          "mesh3d": [
           {
            "colorbar": {
             "outlinewidth": 0,
             "ticks": ""
            },
            "type": "mesh3d"
           }
          ],
          "parcoords": [
           {
            "line": {
             "colorbar": {
              "outlinewidth": 0,
              "ticks": ""
             }
            },
            "type": "parcoords"
           }
          ],
          "pie": [
           {
            "automargin": true,
            "type": "pie"
           }
          ],
          "scatter": [
           {
            "fillpattern": {
             "fillmode": "overlay",
             "size": 10,
             "solidity": 0.2
            },
            "type": "scatter"
           }
          ],
          "scatter3d": [
           {
            "line": {
             "colorbar": {
              "outlinewidth": 0,
              "ticks": ""
             }
            },
            "marker": {
             "colorbar": {
              "outlinewidth": 0,
              "ticks": ""
             }
            },
            "type": "scatter3d"
           }
          ],
          "scattercarpet": [
           {
            "marker": {
             "colorbar": {
              "outlinewidth": 0,
              "ticks": ""
             }
            },
            "type": "scattercarpet"
           }
          ],
          "scattergeo": [
           {
            "marker": {
             "colorbar": {
              "outlinewidth": 0,
              "ticks": ""
             }
            },
            "type": "scattergeo"
           }
          ],
          "scattergl": [
           {
            "marker": {
             "colorbar": {
              "outlinewidth": 0,
              "ticks": ""
             }
            },
            "type": "scattergl"
           }
          ],
          "scattermapbox": [
           {
            "marker": {
             "colorbar": {
              "outlinewidth": 0,
              "ticks": ""
             }
            },
            "type": "scattermapbox"
           }
          ],
          "scatterpolar": [
           {
            "marker": {
             "colorbar": {
              "outlinewidth": 0,
              "ticks": ""
             }
            },
            "type": "scatterpolar"
           }
          ],
          "scatterpolargl": [
           {
            "marker": {
             "colorbar": {
              "outlinewidth": 0,
              "ticks": ""
             }
            },
            "type": "scatterpolargl"
           }
          ],
          "scatterternary": [
           {
            "marker": {
             "colorbar": {
              "outlinewidth": 0,
              "ticks": ""
             }
            },
            "type": "scatterternary"
           }
          ],
          "surface": [
           {
            "colorbar": {
             "outlinewidth": 0,
             "ticks": ""
            },
            "colorscale": [
             [
              0,
              "#0d0887"
             ],
             [
              0.1111111111111111,
              "#46039f"
             ],
             [
              0.2222222222222222,
              "#7201a8"
             ],
             [
              0.3333333333333333,
              "#9c179e"
             ],
             [
              0.4444444444444444,
              "#bd3786"
             ],
             [
              0.5555555555555556,
              "#d8576b"
             ],
             [
              0.6666666666666666,
              "#ed7953"
             ],
             [
              0.7777777777777778,
              "#fb9f3a"
             ],
             [
              0.8888888888888888,
              "#fdca26"
             ],
             [
              1,
              "#f0f921"
             ]
            ],
            "type": "surface"
           }
          ],
          "table": [
           {
            "cells": {
             "fill": {
              "color": "#EBF0F8"
             },
             "line": {
              "color": "white"
             }
            },
            "header": {
             "fill": {
              "color": "#C8D4E3"
             },
             "line": {
              "color": "white"
             }
            },
            "type": "table"
           }
          ]
         },
         "layout": {
          "annotationdefaults": {
           "arrowcolor": "#2a3f5f",
           "arrowhead": 0,
           "arrowwidth": 1
          },
          "autotypenumbers": "strict",
          "coloraxis": {
           "colorbar": {
            "outlinewidth": 0,
            "ticks": ""
           }
          },
          "colorscale": {
           "diverging": [
            [
             0,
             "#8e0152"
            ],
            [
             0.1,
             "#c51b7d"
            ],
            [
             0.2,
             "#de77ae"
            ],
            [
             0.3,
             "#f1b6da"
            ],
            [
             0.4,
             "#fde0ef"
            ],
            [
             0.5,
             "#f7f7f7"
            ],
            [
             0.6,
             "#e6f5d0"
            ],
            [
             0.7,
             "#b8e186"
            ],
            [
             0.8,
             "#7fbc41"
            ],
            [
             0.9,
             "#4d9221"
            ],
            [
             1,
             "#276419"
            ]
           ],
           "sequential": [
            [
             0,
             "#0d0887"
            ],
            [
             0.1111111111111111,
             "#46039f"
            ],
            [
             0.2222222222222222,
             "#7201a8"
            ],
            [
             0.3333333333333333,
             "#9c179e"
            ],
            [
             0.4444444444444444,
             "#bd3786"
            ],
            [
             0.5555555555555556,
             "#d8576b"
            ],
            [
             0.6666666666666666,
             "#ed7953"
            ],
            [
             0.7777777777777778,
             "#fb9f3a"
            ],
            [
             0.8888888888888888,
             "#fdca26"
            ],
            [
             1,
             "#f0f921"
            ]
           ],
           "sequentialminus": [
            [
             0,
             "#0d0887"
            ],
            [
             0.1111111111111111,
             "#46039f"
            ],
            [
             0.2222222222222222,
             "#7201a8"
            ],
            [
             0.3333333333333333,
             "#9c179e"
            ],
            [
             0.4444444444444444,
             "#bd3786"
            ],
            [
             0.5555555555555556,
             "#d8576b"
            ],
            [
             0.6666666666666666,
             "#ed7953"
            ],
            [
             0.7777777777777778,
             "#fb9f3a"
            ],
            [
             0.8888888888888888,
             "#fdca26"
            ],
            [
             1,
             "#f0f921"
            ]
           ]
          },
          "colorway": [
           "#636efa",
           "#EF553B",
           "#00cc96",
           "#ab63fa",
           "#FFA15A",
           "#19d3f3",
           "#FF6692",
           "#B6E880",
           "#FF97FF",
           "#FECB52"
          ],
          "font": {
           "color": "#2a3f5f"
          },
          "geo": {
           "bgcolor": "white",
           "lakecolor": "white",
           "landcolor": "white",
           "showlakes": true,
           "showland": true,
           "subunitcolor": "#C8D4E3"
          },
          "hoverlabel": {
           "align": "left"
          },
          "hovermode": "closest",
          "mapbox": {
           "style": "light"
          },
          "paper_bgcolor": "white",
          "plot_bgcolor": "white",
          "polar": {
           "angularaxis": {
            "gridcolor": "#EBF0F8",
            "linecolor": "#EBF0F8",
            "ticks": ""
           },
           "bgcolor": "white",
           "radialaxis": {
            "gridcolor": "#EBF0F8",
            "linecolor": "#EBF0F8",
            "ticks": ""
           }
          },
          "scene": {
           "xaxis": {
            "backgroundcolor": "white",
            "gridcolor": "#DFE8F3",
            "gridwidth": 2,
            "linecolor": "#EBF0F8",
            "showbackground": true,
            "ticks": "",
            "zerolinecolor": "#EBF0F8"
           },
           "yaxis": {
            "backgroundcolor": "white",
            "gridcolor": "#DFE8F3",
            "gridwidth": 2,
            "linecolor": "#EBF0F8",
            "showbackground": true,
            "ticks": "",
            "zerolinecolor": "#EBF0F8"
           },
           "zaxis": {
            "backgroundcolor": "white",
            "gridcolor": "#DFE8F3",
            "gridwidth": 2,
            "linecolor": "#EBF0F8",
            "showbackground": true,
            "ticks": "",
            "zerolinecolor": "#EBF0F8"
           }
          },
          "shapedefaults": {
           "line": {
            "color": "#2a3f5f"
           }
          },
          "ternary": {
           "aaxis": {
            "gridcolor": "#DFE8F3",
            "linecolor": "#A2B1C6",
            "ticks": ""
           },
           "baxis": {
            "gridcolor": "#DFE8F3",
            "linecolor": "#A2B1C6",
            "ticks": ""
           },
           "bgcolor": "white",
           "caxis": {
            "gridcolor": "#DFE8F3",
            "linecolor": "#A2B1C6",
            "ticks": ""
           }
          },
          "title": {
           "x": 0.05
          },
          "xaxis": {
           "automargin": true,
           "gridcolor": "#EBF0F8",
           "linecolor": "#EBF0F8",
           "ticks": "",
           "title": {
            "standoff": 15
           },
           "zerolinecolor": "#EBF0F8",
           "zerolinewidth": 2
          },
          "yaxis": {
           "automargin": true,
           "gridcolor": "#EBF0F8",
           "linecolor": "#EBF0F8",
           "ticks": "",
           "title": {
            "standoff": 15
           },
           "zerolinecolor": "#EBF0F8",
           "zerolinewidth": 2
          }
         }
        },
        "title": {
         "text": "Daily Maximum RRP for QLD1"
        },
        "xaxis": {
         "anchor": "y",
         "autorange": true,
         "domain": [
          0,
          1
         ],
         "range": [
          "2022-12-10 05:13:41.9598",
          "2024-01-22 18:46:18.0402"
         ],
         "title": {
          "text": "Date"
         },
         "type": "date"
        },
        "yaxis": {
         "anchor": "x",
         "autorange": true,
         "domain": [
          0,
          1
         ],
         "range": [
          -1125.8334109149278,
          16700.823410914927
         ],
         "title": {
          "text": "Max RRP ($/MWh)"
         },
         "type": "linear"
        }
       }
      },
      "image/png": "[encoded data removed]",
      "text/html": [
       "<div>                            <div id=\"c23cda11-ce99-4b24-abf3-1d3ba14f3897\" class=\"plotly-graph-div\" style=\"height:525px; width:100%;\"></div>            <script type=\"text/javascript\">                require([\"plotly\"], function(Plotly) {                    window.PLOTLYENV=window.PLOTLYENV || {};                                    if (document.getElementById(\"c23cda11-ce99-4b24-abf3-1d3ba14f3897\")) {                    Plotly.newPlot(                        \"c23cda11-ce99-4b24-abf3-1d3ba14f3897\",                        [{\"hovertemplate\":\"Date=%{x}\\u003cbr\\u003eMaximum Regional Reference Price ($\\u002fMWh)=%{y}\\u003cextra\\u003e\\u003c\\u002fextra\\u003e\",\"legendgroup\":\"\",\"line\":{\"color\":\"#636efa\",\"dash\":\"solid\",\"shape\":\"linear\"},\"marker\":{\"symbol\":\"circle\",\"size\":5},\"mode\":\"lines+markers\",\"name\":\"\",\"orientation\":\"v\",\"showlegend\":false,\"x\":[\"2023-01-01\",\"2023-01-02\",\"2023-01-03\",\"2023-01-04\",\"2023-01-05\",\"2023-01-06\",\"2023-01-07\",\"2023-01-08\",\"2023-01-09\",\"2023-01-10\",\"2023-01-11\",\"2023-01-12\",\"2023-01-13\",\"2023-01-14\",\"2023-01-15\",\"2023-01-16\",\"2023-01-17\",\"2023-01-18\",\"2023-01-19\",\"2023-01-20\",\"2023-01-21\",\"2023-01-22\",\"2023-01-23\",\"2023-01-24\",\"2023-01-25\",\"2023-01-26\",\"2023-01-27\",\"2023-01-28\",\"2023-01-29\",\"2023-01-30\",\"2023-01-31\",\"2023-02-01\",\"2023-02-02\",\"2023-02-03\",\"2023-02-04\",\"2023-02-05\",\"2023-02-06\",\"2023-02-07\",\"2023-02-08\",\"2023-02-09\",\"2023-02-10\",\"2023-02-11\",\"2023-02-12\",\"2023-02-13\",\"2023-02-14\",\"2023-02-15\",\"2023-02-16\",\"2023-02-17\",\"2023-02-18\",\"2023-02-19\",\"2023-02-20\",\"2023-02-21\",\"2023-02-22\",\"2023-02-23\",\"2023-02-24\",\"2023-02-25\",\"2023-02-26\",\"2023-02-27\",\"2023-02-28\",\"2023-03-01\",\"2023-03-02\",\"2023-03-03\",\"2023-03-04\",\"2023-03-05\",\"2023-03-06\",\"2023-03-07\",\"2023-03-08\",\"2023-03-09\",\"2023-03-10\",\"2023-03-11\",\"2023-03-12\",\"2023-03-13\",\"2023-03-14\",\"2023-03-15\",\"2023-03-16\",\"2023-03-17\",\"2023-03-18\",\"2023-03-19\",\"2023-03-20\",\"2023-03-21\",\"2023-03-22\",\"2023-03-23\",\"2023-03-24\",\"2023-03-25\",\"2023-03-26\",\"2023-03-27\",\"2023-03-28\",\"2023-03-29\",\"2023-03-30\",\"2023-03-31\",\"2023-04-01\",\"2023-04-02\",\"2023-04-03\",\"2023-04-04\",\"2023-04-05\",\"2023-04-06\",\"2023-04-07\",\"2023-04-08\",\"2023-04-09\",\"2023-04-10\",\"2023-04-11\",\"2023-04-12\",\"2023-04-13\",\"2023-04-14\",\"2023-04-15\",\"2023-04-16\",\"2023-04-17\",\"2023-04-18\",\"2023-04-19\",\"2023-04-20\",\"2023-04-21\",\"2023-04-22\",\"2023-04-23\",\"2023-04-24\",\"2023-04-25\",\"2023-04-26\",\"2023-04-27\",\"2023-04-28\",\"2023-04-29\",\"2023-04-30\",\"2023-05-01\",\"2023-05-02\",\"2023-05-03\",\"2023-05-04\",\"2023-05-05\",\"2023-05-06\",\"2023-05-07\",\"2023-05-08\",\"2023-05-09\",\"2023-05-10\",\"2023-05-11\",\"2023-05-12\",\"2023-05-13\",\"2023-05-14\",\"2023-05-15\",\"2023-05-16\",\"2023-05-17\",\"2023-05-18\",\"2023-05-19\",\"2023-05-20\",\"2023-05-21\",\"2023-05-22\",\"2023-05-23\",\"2023-05-24\",\"2023-05-25\",\"2023-05-26\",\"2023-05-27\",\"2023-05-28\",\"2023-05-29\",\"2023-05-30\",\"2023-05-31\",\"2023-06-01\",\"2023-06-02\",\"2023-06-03\",\"2023-06-04\",\"2023-06-05\",\"2023-06-06\",\"2023-06-07\",\"2023-06-08\",\"2023-06-09\",\"2023-06-10\",\"2023-06-11\",\"2023-06-12\",\"2023-06-13\",\"2023-06-14\",\"2023-06-15\",\"2023-06-16\",\"2023-06-17\",\"2023-06-18\",\"2023-06-19\",\"2023-06-20\",\"2023-06-21\",\"2023-06-22\",\"2023-06-23\",\"2023-06-24\",\"2023-06-25\",\"2023-06-26\",\"2023-06-27\",\"2023-06-28\",\"2023-06-29\",\"2023-06-30\",\"2023-07-01\",\"2023-07-02\",\"2023-07-03\",\"2023-07-04\",\"2023-07-05\",\"2023-07-06\",\"2023-07-07\",\"2023-07-08\",\"2023-07-09\",\"2023-07-10\",\"2023-07-11\",\"2023-07-12\",\"2023-07-13\",\"2023-07-14\",\"2023-07-15\",\"2023-07-16\",\"2023-07-17\",\"2023-07-18\",\"2023-07-19\",\"2023-07-20\",\"2023-07-21\",\"2023-07-22\",\"2023-07-23\",\"2023-07-24\",\"2023-07-25\",\"2023-07-26\",\"2023-07-27\",\"2023-07-28\",\"2023-07-29\",\"2023-07-30\",\"2023-07-31\",\"2023-08-01\",\"2023-08-02\",\"2023-08-03\",\"2023-08-04\",\"2023-08-05\",\"2023-08-06\",\"2023-08-07\",\"2023-08-08\",\"2023-08-09\",\"2023-08-10\",\"2023-08-11\",\"2023-08-12\",\"2023-08-13\",\"2023-08-14\",\"2023-08-15\",\"2023-08-16\",\"2023-08-17\",\"2023-08-18\",\"2023-08-19\",\"2023-08-20\",\"2023-08-21\",\"2023-08-22\",\"2023-08-23\",\"2023-08-24\",\"2023-08-25\",\"2023-08-26\",\"2023-08-27\",\"2023-08-28\",\"2023-08-29\",\"2023-08-30\",\"2023-08-31\",\"2023-09-01\",\"2023-09-02\",\"2023-09-03\",\"2023-09-04\",\"2023-09-05\",\"2023-09-06\",\"2023-09-07\",\"2023-09-08\",\"2023-09-09\",\"2023-09-10\",\"2023-09-11\",\"2023-09-12\",\"2023-09-13\",\"2023-09-14\",\"2023-09-15\",\"2023-09-16\",\"2023-09-17\",\"2023-09-18\",\"2023-09-19\",\"2023-09-20\",\"2023-09-21\",\"2023-09-22\",\"2023-09-23\",\"2023-09-24\",\"2023-09-25\",\"2023-09-26\",\"2023-09-27\",\"2023-09-28\",\"2023-09-29\",\"2023-09-30\",\"2023-10-01\",\"2023-10-02\",\"2023-10-03\",\"2023-10-04\",\"2023-10-05\",\"2023-10-06\",\"2023-10-07\",\"2023-10-08\",\"2023-10-09\",\"2023-10-10\",\"2023-10-11\",\"2023-10-12\",\"2023-10-13\",\"2023-10-14\",\"2023-10-15\",\"2023-10-16\",\"2023-10-17\",\"2023-10-18\",\"2023-10-19\",\"2023-10-20\",\"2023-10-21\",\"2023-10-22\",\"2023-10-23\",\"2023-10-24\",\"2023-10-25\",\"2023-10-26\",\"2023-10-27\",\"2023-10-28\",\"2023-10-29\",\"2023-10-30\",\"2023-10-31\",\"2023-11-01\",\"2023-11-02\",\"2023-11-03\",\"2023-11-04\",\"2023-11-05\",\"2023-11-06\",\"2023-11-07\",\"2023-11-08\",\"2023-11-09\",\"2023-11-10\",\"2023-11-11\",\"2023-11-12\",\"2023-11-13\",\"2023-11-14\",\"2023-11-15\",\"2023-11-16\",\"2023-11-17\",\"2023-11-18\",\"2023-11-19\",\"2023-11-20\",\"2023-11-21\",\"2023-11-22\",\"2023-11-23\",\"2023-11-24\",\"2023-11-25\",\"2023-11-26\",\"2023-11-27\",\"2023-11-28\",\"2023-11-29\",\"2023-11-30\",\"2023-12-01\",\"2023-12-02\",\"2023-12-03\",\"2023-12-04\",\"2023-12-05\",\"2023-12-06\",\"2023-12-07\",\"2023-12-08\",\"2023-12-09\",\"2023-12-10\",\"2023-12-11\",\"2023-12-12\",\"2023-12-13\",\"2023-12-14\",\"2023-12-15\",\"2023-12-16\",\"2023-12-17\",\"2023-12-18\",\"2023-12-19\",\"2023-12-20\",\"2023-12-21\",\"2023-12-22\",\"2023-12-23\",\"2023-12-24\",\"2023-12-25\",\"2023-12-26\",\"2023-12-27\",\"2023-12-28\",\"2023-12-29\",\"2023-12-30\",\"2023-12-31\",\"2024-01-01\"],\"xaxis\":\"x\",\"y\":[191.06184,183.2319,236.11,457.45996,136.81651,167.94101,193.0,382.84634,370.47973,236.11,286.60671,194.0,1304.95151,254.23009,349.01,165.74917,186.90322,163.73999,194.01,100.28125,133.4316,200.16,304.01,314.5672,349.01,15500.0,295.01,304.01,551.0,552.0,15500.0,563.65,479.93932,1297.0,349.01,1249.87,347.60447,349.73,225.0253,176.57375,224.38776,349.01,551.0,551.0,551.0,308.47925,842.11926,149.74,279.41579,315.45645,551.01,295.01,143.84189,289.42886,110.00001,122.69826,198.15297,174.96571,194.01,15003.26,246.58189,154.05843,194.02,562.32536,1297.02,327.31133,157.35801,316.61126,194.02,323.61192,205.15877,370.73009,340.77213,370.73023,15500.0,14500.0,500.53,13500.02,194.02,324.24012,293.79742,1171.89488,295.01,194.01,350.39241,662.9,2600.0,407.99012,341.48295,316.31983,463.94664,375.37826,394.01,1350.0,1297.02,369.62003,195.38054,192.19005,150.65854,320.67285,370.75,14950.01,323.0646,496.333,404.81024,1240.0,330.21,328.42616,370.73008,365.87413,314.11514,320.27208,332.45872,295.01,292.9363,800.84539,311.91933,313.52399,434.84701,449.81819,429.32848,333.1755,319.1927,412.0893,297.80686,301.00509,338.35401,296.04187,587.91162,924.94579,295.76297,294.28879,289.57979,293.20448,390.81913,414.39002,14930.01,369.62003,1297.0982,14930.01,370.7303,623.71147,796.33452,12162.73556,14500.0,1249.87,14028.16675,311.71765,1658.34043,14930.01,619.0,314.61779,277.18166,277.18166,370.73,366.75006,370.7303,375.5401,388.5401,305.42934,300.75792,279.08988,14930.01,295.01013,262.25084,1245.65,366.75019,377.27685,376.87191,15500.0,1046.87487,14219.28193,370.73009,194.01,295.0,385.863,324.53154,507.06584,583.7,445.22907,192.5,307.69158,294.17575,397.13026,303.61865,226.83996,887.73795,144.51005,394.42006,380.20044,370.73025,299.18986,292.39949,155.78577,156.28248,156.37549,302.93346,320.39988,383.19009,301.66264,552.75,293.8806,284.69665,319.73711,337.78481,343.15612,1167.37412,316.13079,289.42148,181.75239,194.01,331.0701,10150.56098,293.8623,307.96001,192.76,192.83593,303.46836,408.09026,717.59334,330.75668,4294.11035,299.67182,273.68997,298.20871,454.29275,1577.65,329.39444,550.69,209.82209,135.15986,310.44652,311.11126,302.67854,279.65717,303.4802,282.75168,194.27736,258.06121,303.68134,246.34445,298.52674,225.25987,277.03535,263.01,193.99541,14776.62347,292.10954,15004.02,264.01,2001.49,285.67859,221.56403,283.76767,290.68841,299.15893,202.64249,285.78922,294.56582,308.20836,309.83324,303.85483,162.67074,292.53941,264.14368,147.06982,264.03944,217.74,264.01,160.26731,145.10123,194.01,314.64423,74.99,156.07123,333.28049,416.74014,284.64,192.76,138.98,164.03788,181.90139,316.13043,554.0,150.27988,110.23373,137.98,263.01,14928.01,332.77069,330.6654,304.90335,138.98,621.0,145.2,234.26392,2125.25,382.39001,380.01,194.01,97.38845,330.26362,127.94352,1298.11,327.09707,315.97744,97.17848,207.42732,272.19937,230.39,147.12494,597.1871,388.97001,285.97206,12998.32254,13390.01,515.38576,573.02905,526.0,9810.2,371.09542,294.2492,380.01,288.68178,705.60198,270.29179,181.04288,144.73813,137.94556,295.05,263.01,155.86899,114.75004,373.06995,372.9806,370.73008,1309.99,370.7303,1050.2596,287.56,370.11018,317.70411,336.50199,263.01,295.64567,285.75001,263.01,371.02009,261.55,720.75001,387.53,343.36994,370.03,379.42444,4164.92,369.9803,368.55,171.2323,372.72015,368.75,368.75,14927.99,14936.02,370.73015,145.2,85.55],\"yaxis\":\"y\",\"type\":\"scatter\"}],                        {\"template\":{\"data\":{\"barpolar\":[{\"marker\":{\"line\":{\"color\":\"white\",\"width\":0.5},\"pattern\":{\"fillmode\":\"overlay\",\"size\":10,\"solidity\":0.2}},\"type\":\"barpolar\"}],\"bar\":[{\"error_x\":{\"color\":\"#2a3f5f\"},\"error_y\":{\"color\":\"#2a3f5f\"},\"marker\":{\"line\":{\"color\":\"white\",\"width\":0.5},\"pattern\":{\"fillmode\":\"overlay\",\"size\":10,\"solidity\":0.2}},\"type\":\"bar\"}],\"carpet\":[{\"aaxis\":{\"endlinecolor\":\"#2a3f5f\",\"gridcolor\":\"#C8D4E3\",\"linecolor\":\"#C8D4E3\",\"minorgridcolor\":\"#C8D4E3\",\"startlinecolor\":\"#2a3f5f\"},\"baxis\":{\"endlinecolor\":\"#2a3f5f\",\"gridcolor\":\"#C8D4E3\",\"linecolor\":\"#C8D4E3\",\"minorgridcolor\":\"#C8D4E3\",\"startlinecolor\":\"#2a3f5f\"},\"type\":\"carpet\"}],\"choropleth\":[{\"colorbar\":{\"outlinewidth\":0,\"ticks\":\"\"},\"type\":\"choropleth\"}],\"contourcarpet\":[{\"colorbar\":{\"outlinewidth\":0,\"ticks\":\"\"},\"type\":\"contourcarpet\"}],\"contour\":[{\"colorbar\":{\"outlinewidth\":0,\"ticks\":\"\"},\"colorscale\":[[0.0,\"#0d0887\"],[0.1111111111111111,\"#46039f\"],[0.2222222222222222,\"#7201a8\"],[0.3333333333333333,\"#9c179e\"],[0.4444444444444444,\"#bd3786\"],[0.5555555555555556,\"#d8576b\"],[0.6666666666666666,\"#ed7953\"],[0.7777777777777778,\"#fb9f3a\"],[0.8888888888888888,\"#fdca26\"],[1.0,\"#f0f921\"]],\"type\":\"contour\"}],\"heatmapgl\":[{\"colorbar\":{\"outlinewidth\":0,\"ticks\":\"\"},\"colorscale\":[[0.0,\"#0d0887\"],[0.1111111111111111,\"#46039f\"],[0.2222222222222222,\"#7201a8\"],[0.3333333333333333,\"#9c179e\"],[0.4444444444444444,\"#bd3786\"],[0.5555555555555556,\"#d8576b\"],[0.6666666666666666,\"#ed7953\"],[0.7777777777777778,\"#fb9f3a\"],[0.8888888888888888,\"#fdca26\"],[1.0,\"#f0f921\"]],\"type\":\"heatmapgl\"}],\"heatmap\":[{\"colorbar\":{\"outlinewidth\":0,\"ticks\":\"\"},\"colorscale\":[[0.0,\"#0d0887\"],[0.1111111111111111,\"#46039f\"],[0.2222222222222222,\"#7201a8\"],[0.3333333333333333,\"#9c179e\"],[0.4444444444444444,\"#bd3786\"],[0.5555555555555556,\"#d8576b\"],[0.6666666666666666,\"#ed7953\"],[0.7777777777777778,\"#fb9f3a\"],[0.8888888888888888,\"#fdca26\"],[1.0,\"#f0f921\"]],\"type\":\"heatmap\"}],\"histogram2dcontour\":[{\"colorbar\":{\"outlinewidth\":0,\"ticks\":\"\"},\"colorscale\":[[0.0,\"#0d0887\"],[0.1111111111111111,\"#46039f\"],[0.2222222222222222,\"#7201a8\"],[0.3333333333333333,\"#9c179e\"],[0.4444444444444444,\"#bd3786\"],[0.5555555555555556,\"#d8576b\"],[0.6666666666666666,\"#ed7953\"],[0.7777777777777778,\"#fb9f3a\"],[0.8888888888888888,\"#fdca26\"],[1.0,\"#f0f921\"]],\"type\":\"histogram2dcontour\"}],\"histogram2d\":[{\"colorbar\":{\"outlinewidth\":0,\"ticks\":\"\"},\"colorscale\":[[0.0,\"#0d0887\"],[0.1111111111111111,\"#46039f\"],[0.2222222222222222,\"#7201a8\"],[0.3333333333333333,\"#9c179e\"],[0.4444444444444444,\"#bd3786\"],[0.5555555555555556,\"#d8576b\"],[0.6666666666666666,\"#ed7953\"],[0.7777777777777778,\"#fb9f3a\"],[0.8888888888888888,\"#fdca26\"],[1.0,\"#f0f921\"]],\"type\":\"histogram2d\"}],\"histogram\":[{\"marker\":{\"pattern\":{\"fillmode\":\"overlay\",\"size\":10,\"solidity\":0.2}},\"type\":\"histogram\"}],\"mesh3d\":[{\"colorbar\":{\"outlinewidth\":0,\"ticks\":\"\"},\"type\":\"mesh3d\"}],\"parcoords\":[{\"line\":{\"colorbar\":{\"outlinewidth\":0,\"ticks\":\"\"}},\"type\":\"parcoords\"}],\"pie\":[{\"automargin\":true,\"type\":\"pie\"}],\"scatter3d\":[{\"line\":{\"colorbar\":{\"outlinewidth\":0,\"ticks\":\"\"}},\"marker\":{\"colorbar\":{\"outlinewidth\":0,\"ticks\":\"\"}},\"type\":\"scatter3d\"}],\"scattercarpet\":[{\"marker\":{\"colorbar\":{\"outlinewidth\":0,\"ticks\":\"\"}},\"type\":\"scattercarpet\"}],\"scattergeo\":[{\"marker\":{\"colorbar\":{\"outlinewidth\":0,\"ticks\":\"\"}},\"type\":\"scattergeo\"}],\"scattergl\":[{\"marker\":{\"colorbar\":{\"outlinewidth\":0,\"ticks\":\"\"}},\"type\":\"scattergl\"}],\"scattermapbox\":[{\"marker\":{\"colorbar\":{\"outlinewidth\":0,\"ticks\":\"\"}},\"type\":\"scattermapbox\"}],\"scatterpolargl\":[{\"marker\":{\"colorbar\":{\"outlinewidth\":0,\"ticks\":\"\"}},\"type\":\"scatterpolargl\"}],\"scatterpolar\":[{\"marker\":{\"colorbar\":{\"outlinewidth\":0,\"ticks\":\"\"}},\"type\":\"scatterpolar\"}],\"scatter\":[{\"fillpattern\":{\"fillmode\":\"overlay\",\"size\":10,\"solidity\":0.2},\"type\":\"scatter\"}],\"scatterternary\":[{\"marker\":{\"colorbar\":{\"outlinewidth\":0,\"ticks\":\"\"}},\"type\":\"scatterternary\"}],\"surface\":[{\"colorbar\":{\"outlinewidth\":0,\"ticks\":\"\"},\"colorscale\":[[0.0,\"#0d0887\"],[0.1111111111111111,\"#46039f\"],[0.2222222222222222,\"#7201a8\"],[0.3333333333333333,\"#9c179e\"],[0.4444444444444444,\"#bd3786\"],[0.5555555555555556,\"#d8576b\"],[0.6666666666666666,\"#ed7953\"],[0.7777777777777778,\"#fb9f3a\"],[0.8888888888888888,\"#fdca26\"],[1.0,\"#f0f921\"]],\"type\":\"surface\"}],\"table\":[{\"cells\":{\"fill\":{\"color\":\"#EBF0F8\"},\"line\":{\"color\":\"white\"}},\"header\":{\"fill\":{\"color\":\"#C8D4E3\"},\"line\":{\"color\":\"white\"}},\"type\":\"table\"}]},\"layout\":{\"annotationdefaults\":{\"arrowcolor\":\"#2a3f5f\",\"arrowhead\":0,\"arrowwidth\":1},\"autotypenumbers\":\"strict\",\"coloraxis\":{\"colorbar\":{\"outlinewidth\":0,\"ticks\":\"\"}},\"colorscale\":{\"diverging\":[[0,\"#8e0152\"],[0.1,\"#c51b7d\"],[0.2,\"#de77ae\"],[0.3,\"#f1b6da\"],[0.4,\"#fde0ef\"],[0.5,\"#f7f7f7\"],[0.6,\"#e6f5d0\"],[0.7,\"#b8e186\"],[0.8,\"#7fbc41\"],[0.9,\"#4d9221\"],[1,\"#276419\"]],\"sequential\":[[0.0,\"#0d0887\"],[0.1111111111111111,\"#46039f\"],[0.2222222222222222,\"#7201a8\"],[0.3333333333333333,\"#9c179e\"],[0.4444444444444444,\"#bd3786\"],[0.5555555555555556,\"#d8576b\"],[0.6666666666666666,\"#ed7953\"],[0.7777777777777778,\"#fb9f3a\"],[0.8888888888888888,\"#fdca26\"],[1.0,\"#f0f921\"]],\"sequentialminus\":[[0.0,\"#0d0887\"],[0.1111111111111111,\"#46039f\"],[0.2222222222222222,\"#7201a8\"],[0.3333333333333333,\"#9c179e\"],[0.4444444444444444,\"#bd3786\"],[0.5555555555555556,\"#d8576b\"],[0.6666666666666666,\"#ed7953\"],[0.7777777777777778,\"#fb9f3a\"],[0.8888888888888888,\"#fdca26\"],[1.0,\"#f0f921\"]]},\"colorway\":[\"#636efa\",\"#EF553B\",\"#00cc96\",\"#ab63fa\",\"#FFA15A\",\"#19d3f3\",\"#FF6692\",\"#B6E880\",\"#FF97FF\",\"#FECB52\"],\"font\":{\"color\":\"#2a3f5f\"},\"geo\":{\"bgcolor\":\"white\",\"lakecolor\":\"white\",\"landcolor\":\"white\",\"showlakes\":true,\"showland\":true,\"subunitcolor\":\"#C8D4E3\"},\"hoverlabel\":{\"align\":\"left\"},\"hovermode\":\"closest\",\"mapbox\":{\"style\":\"light\"},\"paper_bgcolor\":\"white\",\"plot_bgcolor\":\"white\",\"polar\":{\"angularaxis\":{\"gridcolor\":\"#EBF0F8\",\"linecolor\":\"#EBF0F8\",\"ticks\":\"\"},\"bgcolor\":\"white\",\"radialaxis\":{\"gridcolor\":\"#EBF0F8\",\"linecolor\":\"#EBF0F8\",\"ticks\":\"\"}},\"scene\":{\"xaxis\":{\"backgroundcolor\":\"white\",\"gridcolor\":\"#DFE8F3\",\"gridwidth\":2,\"linecolor\":\"#EBF0F8\",\"showbackground\":true,\"ticks\":\"\",\"zerolinecolor\":\"#EBF0F8\"},\"yaxis\":{\"backgroundcolor\":\"white\",\"gridcolor\":\"#DFE8F3\",\"gridwidth\":2,\"linecolor\":\"#EBF0F8\",\"showbackground\":true,\"ticks\":\"\",\"zerolinecolor\":\"#EBF0F8\"},\"zaxis\":{\"backgroundcolor\":\"white\",\"gridcolor\":\"#DFE8F3\",\"gridwidth\":2,\"linecolor\":\"#EBF0F8\",\"showbackground\":true,\"ticks\":\"\",\"zerolinecolor\":\"#EBF0F8\"}},\"shapedefaults\":{\"line\":{\"color\":\"#2a3f5f\"}},\"ternary\":{\"aaxis\":{\"gridcolor\":\"#DFE8F3\",\"linecolor\":\"#A2B1C6\",\"ticks\":\"\"},\"baxis\":{\"gridcolor\":\"#DFE8F3\",\"linecolor\":\"#A2B1C6\",\"ticks\":\"\"},\"bgcolor\":\"white\",\"caxis\":{\"gridcolor\":\"#DFE8F3\",\"linecolor\":\"#A2B1C6\",\"ticks\":\"\"}},\"title\":{\"x\":0.05},\"xaxis\":{\"automargin\":true,\"gridcolor\":\"#EBF0F8\",\"linecolor\":\"#EBF0F8\",\"ticks\":\"\",\"title\":{\"standoff\":15},\"zerolinecolor\":\"#EBF0F8\",\"zerolinewidth\":2},\"yaxis\":{\"automargin\":true,\"gridcolor\":\"#EBF0F8\",\"linecolor\":\"#EBF0F8\",\"ticks\":\"\",\"title\":{\"standoff\":15},\"zerolinecolor\":\"#EBF0F8\",\"zerolinewidth\":2}}},\"xaxis\":{\"anchor\":\"y\",\"domain\":[0.0,1.0],\"title\":{\"text\":\"Date\"}},\"yaxis\":{\"anchor\":\"x\",\"domain\":[0.0,1.0],\"title\":{\"text\":\"Max RRP ($\\u002fMWh)\"}},\"legend\":{\"tracegroupgap\":0},\"title\":{\"text\":\"Daily Maximum RRP for QLD1\"},\"hovermode\":\"x unified\"},                        {\"responsive\": true}                    ).then(function(){\n",
       "                            \n",
       "var gd = document.getElementById('c23cda11-ce99-4b24-abf3-1d3ba14f3897');\n",
       "var x = new MutationObserver(function (mutations, observer) {{\n",
       "        var display = window.getComputedStyle(gd).display;\n",
       "        if (!display || display === 'none') {{\n",
       "            console.log([gd, 'removed!']);\n",
       "            Plotly.purge(gd);\n",
       "            observer.disconnect();\n",
       "        }}\n",
       "}});\n",
       "\n",
       "// Listen for the removal of the full notebook cells\n",
       "var notebookContainer = gd.closest('#notebook-container');\n",
       "if (notebookContainer) {{\n",
       "    x.observe(notebookContainer, {childList: true});\n",
       "}}\n",
       "\n",
       "// Listen for the clearing of the current output cell\n",
       "var outputEl = gd.closest('.output');\n",
       "if (outputEl) {{\n",
       "    x.observe(outputEl, {childList: true});\n",
       "}}\n",
       "\n",
       "                        })                };                });            </script>        </div>"
      ]
     },
     "metadata": {},
     "output_type": "display_data"
    }
   ],
   "source": [
    "import pandas as pd\n",
    "import plotly.express as px\n",
    "import plotly.graph_objects as go\n",
    "from datetime import datetime\n",
    "\n",
    "# Make sure SETTLEMENTDATE is in datetime format\n",
    "price_data['SETTLEMENTDATE'] = pd.to_datetime(price_data['SETTLEMENTDATE'])\n",
    "\n",
    "# Create a date column without the time component for aggregation\n",
    "price_data['DATE'] = price_data['SETTLEMENTDATE'].dt.date\n",
    "\n",
    "# For this example, let's create a graph for a specific region (e.g., QLD)\n",
    "# You can modify this to show multiple regions or filter as needed\n",
    "region_filter = 'QLD1'  # Change this to the region you want to visualize\n",
    "filtered_data = price_data[price_data['REGIONID'] == region_filter]\n",
    "\n",
    "# Group by date and calculate daily MAXIMUM RRP\n",
    "daily_max = filtered_data.groupby('DATE')['RRP'].max().reset_index()\n",
    "\n",
    "# Create the Plotly figure\n",
    "fig = px.line(daily_max, x='DATE', y='RRP', \n",
    "              title=f'Daily Maximum RRP for {region_filter}',\n",
    "              labels={'RRP': 'Maximum Regional Reference Price ($/MWh)', 'DATE': 'Date'},\n",
    "              line_shape='linear')\n",
    "\n",
    "fig.update_layout(\n",
    "    xaxis_title='Date',\n",
    "    yaxis_title='Max RRP ($/MWh)',\n",
    "    template='plotly_white',\n",
    "    hovermode='x unified'\n",
    ")\n",
    "\n",
    "# Add markers for data points\n",
    "fig.update_traces(mode='lines+markers', marker=dict(size=5))\n",
    "\n",
    "# Show the figure\n",
    "fig.show()\n",
    "\n",
    "# To save the figure if needed\n",
    "# fig.write_html(\"max_rrp_over_time.html\")"
   ]
  },
  {
   "cell_type": "code",
   "execution_count": 13,
   "id": "148d1130-1076-40e6-9cfe-46613f820d96",
   "metadata": {},
   "outputs": [
    {
     "name": "stdout",
     "output_type": "stream",
     "text": [
      "Number of high RRP days: 9\n",
      "Number of high demand days: 3\n",
      "Number of high gap days: 1\n",
      "Number of high demand but not high RRP days: 2\n",
      "{datetime.date(2023, 2, 23), datetime.date(2023, 2, 22)}\n",
      "Number of high gap but not high RRP days: 1\n",
      "{datetime.date(2023, 2, 24)}\n",
      "Number of days meeting any condition: 12\n",
      "Dates: [datetime.date(2023, 1, 27), datetime.date(2023, 2, 9), datetime.date(2023, 2, 15), datetime.date(2023, 2, 16), datetime.date(2023, 2, 22), datetime.date(2023, 2, 23), datetime.date(2023, 2, 24), datetime.date(2023, 2, 25), datetime.date(2023, 4, 27), datetime.date(2023, 5, 1), datetime.date(2023, 5, 4), datetime.date(2023, 5, 10)]\n"
     ]
    }
   ],
   "source": [
    "import pandas as pd\n",
    "\n",
    "# Convert SETTLEMENTDATE to datetime\n",
    "price_data['SETTLEMENTDATE'] = pd.to_datetime(price_data['SETTLEMENTDATE'])\n",
    "demand_data['SETTLEMENTDATE'] = pd.to_datetime(demand_data['SETTLEMENTDATE'])\n",
    "load_data['SETTLEMENTDATE'] = pd.to_datetime(load_data['SETTLEMENTDATE'])\n",
    "\n",
    "# Add date columns\n",
    "price_data['date'] = price_data['SETTLEMENTDATE'].dt.date\n",
    "demand_data['date'] = demand_data['SETTLEMENTDATE'].dt.date\n",
    "load_data['date'] = load_data['SETTLEMENTDATE'].dt.date\n",
    "\n",
    "file_name = \"NEM_Region_duids.xlsx\"\n",
    "df_qld = pd.read_excel(file_name, sheet_name=\"SA1\")\n",
    "\n",
    "# Drop NaN values and convert to a list\n",
    "natural_gas_qld = df_qld[\"Natural Gas DUID\"].dropna().tolist()\n",
    "coal_qld = df_qld[\"Coal DUID\"].dropna().tolist()\n",
    "solar_qld = df_qld[\"Solar DUID\"].dropna().tolist()\n",
    "wind_qld = df_qld[\"Wind DUID\"].dropna().tolist()\n",
    "duids_list = coal_qld + natural_gas_qld\n",
    "\n",
    "# Filter for QLD region\n",
    "qld_price = price_data[price_data['REGIONID'] == 'SA1'].copy()\n",
    "qld_demand = demand_data[demand_data['REGIONID'] == 'SA1'].copy()\n",
    "\n",
    "# Filter load data to only include coal and natural gas DUIDs from QLD\n",
    "filtered_load = load_data[load_data['DUID'].isin(duids_list)].copy()\n",
    "\n",
    "# Calculate daily maximum RRP\n",
    "daily_max_rrp = qld_price.groupby('date')['RRP'].max().reset_index()\n",
    "daily_max_rrp.rename(columns={'RRP': 'max_RRP'}, inplace=True)\n",
    "\n",
    "# Calculate daily maximum demand\n",
    "daily_max_demand = qld_demand.groupby('date')['TOTALDEMAND'].max().reset_index()\n",
    "daily_max_demand.rename(columns={'TOTALDEMAND': 'max_DEMAND'}, inplace=True)\n",
    "\n",
    "# For availability calculation, first sum by timestamp and DUID\n",
    "# Group by timestamp and sum AVAILABILITY across all DUIDs\n",
    "availability_sum = filtered_load.groupby('SETTLEMENTDATE')['AVAILABILITY'].sum().reset_index()\n",
    "availability_sum['date'] = availability_sum['SETTLEMENTDATE'].dt.date\n",
    "\n",
    "# Extract required columns from demand data\n",
    "demand_data_subset = qld_demand[['SETTLEMENTDATE', 'TOTALDEMAND']].copy()\n",
    "\n",
    "# Merge availability with demand on timestamp\n",
    "merged_data = pd.merge(demand_data_subset, availability_sum, on='SETTLEMENTDATE', how='inner')\n",
    "\n",
    "# Calculate gap for each timestamp\n",
    "merged_data['availability_demand_gap'] = merged_data['TOTALDEMAND'] - merged_data['AVAILABILITY']\n",
    "\n",
    "# Add date column to merged data\n",
    "merged_data['date'] = merged_data['SETTLEMENTDATE'].dt.date\n",
    "\n",
    "# Calculate daily maximum gap\n",
    "daily_max_gap = merged_data.groupby('date')['availability_demand_gap'].max().reset_index()\n",
    "daily_max_gap.rename(columns={'availability_demand_gap': 'max_GAP'}, inplace=True)\n",
    "\n",
    "# Create consolidated dataframe of all dates\n",
    "# Get all unique dates from all three dataframes\n",
    "all_dates = pd.concat([\n",
    "    daily_max_rrp['date'],\n",
    "    daily_max_demand['date'],\n",
    "    daily_max_gap['date']\n",
    "]).unique()\n",
    "\n",
    "# Create a dataframe with all dates\n",
    "consolidated_df = pd.DataFrame({'date': all_dates})\n",
    "\n",
    "# Merge all metrics into the consolidated dataframe\n",
    "consolidated_df = pd.merge(consolidated_df, daily_max_rrp, on='date', how='left')\n",
    "consolidated_df = pd.merge(consolidated_df, daily_max_demand, on='date', how='left')\n",
    "consolidated_df = pd.merge(consolidated_df, daily_max_gap, on='date', how='left')\n",
    "\n",
    "# Sort by date\n",
    "consolidated_df.sort_values('date', inplace=True)\n",
    "\n",
    "# Thresholds\n",
    "rrp_thresh = 9855.72  # 0.086\n",
    "demand_thresh = 2685.06  # 0.077\n",
    "gap_thresh = 1350.01  # 0.078\n",
    "\n",
    "\n",
    "# Apply conditions\n",
    "consolidated_df['high_RRP'] = consolidated_df['max_RRP'] > rrp_thresh\n",
    "consolidated_df['high_DEMAND'] = consolidated_df['max_DEMAND'] > demand_thresh\n",
    "consolidated_df['high_GAP'] = consolidated_df['max_GAP'] > gap_thresh\n",
    "consolidated_df['any_condition'] = (\n",
    "    consolidated_df['high_RRP'] | \n",
    "    consolidated_df['high_DEMAND'] | \n",
    "    consolidated_df['high_GAP']\n",
    ")\n",
    "\n",
    "# Create sets for analysis\n",
    "rrp_days = set(consolidated_df[consolidated_df['high_RRP'] == True]['date'])\n",
    "demand_days = set(consolidated_df[consolidated_df['high_DEMAND'] == True]['date'])\n",
    "gap_days = set(consolidated_df[consolidated_df['high_GAP'] == True]['date'])\n",
    "common_days = set(consolidated_df[consolidated_df['any_condition'] == True]['date'])\n",
    "\n",
    "# Print results\n",
    "print(f\"Number of high RRP days: {len(rrp_days)}\")\n",
    "print(f\"Number of high demand days: {len(demand_days)}\")\n",
    "print(f\"Number of high gap days: {len(gap_days)}\")\n",
    "\n",
    "days = demand_days - rrp_days\n",
    "print(f\"Number of high demand but not high RRP days: {len(days)}\")\n",
    "print(days)\n",
    "\n",
    "days = gap_days - rrp_days\n",
    "print(f\"Number of high gap but not high RRP days: {len(days)}\")\n",
    "print(days)\n",
    "\n",
    "print(f\"Number of days meeting any condition: {len(common_days)}\")\n",
    "print(\"Dates:\", sorted(common_days))\n",
    "\n",
    "# Optional: Save the consolidated dataframe\n",
    "consolidated_df.to_csv('SA_daily_energy_metrics.csv', index=False)"
   ]
  },
  {
   "cell_type": "code",
   "execution_count": null,
   "id": "aa3365f5-cd15-43eb-a081-cfa7ff7e0431",
   "metadata": {},
   "outputs": [],
   "source": []
  }
 ],
 "metadata": {
  "kernelspec": {
   "display_name": "Python 3 (ipykernel)",
   "language": "python",
   "name": "python3"
  },
  "language_info": {
   "codemirror_mode": {
    "name": "ipython",
    "version": 3
   },
   "file_extension": ".py",
   "mimetype": "text/x-python",
   "name": "python",
   "nbconvert_exporter": "python",
   "pygments_lexer": "ipython3",
   "version": "3.12.7"
  }
 },
 "nbformat": 4,
 "nbformat_minor": 5
}
