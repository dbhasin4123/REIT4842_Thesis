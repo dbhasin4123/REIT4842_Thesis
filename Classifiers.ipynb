{
 "cells": [
  {
   "cell_type": "code",
   "execution_count": 40,
   "id": "dbe1382e-944d-4faa-a829-c42f2e020e45",
   "metadata": {},
   "outputs": [
    {
     "name": "stdout",
     "output_type": "stream",
     "text": [
      "              precision    recall  f1-score   support\n",
      "\n",
      "           0       1.00      1.00      1.00        71\n",
      "           1       1.00      1.00      1.00         3\n",
      "\n",
      "    accuracy                           1.00        74\n",
      "   macro avg       1.00      1.00      1.00        74\n",
      "weighted avg       1.00      1.00      1.00        74\n",
      "\n",
      "[[71  0]\n",
      " [ 0  3]]\n"
     ]
    }
   ],
   "source": [
    "import pandas as pd\n",
    "from sklearn.model_selection import train_test_split\n",
    "from sklearn.ensemble import RandomForestClassifier\n",
    "from sklearn.metrics import classification_report\n",
    "\n",
    "# Load your data (now using read_csv)\n",
    "data = pd.read_csv('daily_energy_metrics.csv')\n",
    "\n",
    "# Select features and target\n",
    "X = data[['max_RRP', 'max_GAP', 'max_DEMAND']]  # features\n",
    "y = data['any_condition'].astype(int)  # target (convert from bool to int 0/1)\n",
    "\n",
    "# Split into train and test sets\n",
    "X_train, X_test, y_train, y_test = train_test_split(X, y, test_size=0.2, random_state=42)\n",
    "\n",
    "# Create and train the Random Forest Classifier\n",
    "clf = RandomForestClassifier(random_state=42)\n",
    "clf.fit(X_train, y_train)\n",
    "\n",
    "# Predict on test data\n",
    "y_pred = clf.predict(X_test)\n",
    "\n",
    "# Print classification report\n",
    "print(classification_report(y_test, y_pred))\n",
    "print(confusion_matrix(y_test, y_pred))\n"
   ]
  },
  {
   "cell_type": "code",
   "execution_count": 41,
   "id": "d710e1f2-893a-49a5-be23-0a89e98f250e",
   "metadata": {},
   "outputs": [
    {
     "name": "stdout",
     "output_type": "stream",
     "text": [
      "[0 0]\n"
     ]
    }
   ],
   "source": [
    "# Load new data (example)\n",
    "new_data = pd.DataFrame({\n",
    "    'max_RRP': [90.49, 400],\n",
    "    'max_GAP': [200, 700],\n",
    "    'max_DEMAND': [7500, 8000]\n",
    "    # 'solar': [22,0]\n",
    "})\n",
    "\n",
    "# Predict using the trained model\n",
    "predictions = clf.predict(new_data)\n",
    "\n",
    "# Show predictions\n",
    "print(predictions)\n"
   ]
  },
  {
   "cell_type": "code",
   "execution_count": 42,
   "id": "4c06130b-0487-412c-858c-ecb09d42628a",
   "metadata": {},
   "outputs": [],
   "source": [
    "import pandas as pd\n",
    "\n",
    "# Load the 2024 data\n",
    "data_2024 = pd.read_csv('daily_energy_metrics_2024.csv')\n",
    "\n",
    "# Select the input features (same as training)\n",
    "X_2024 = data_2024[['max_RRP', 'max_GAP', 'max_DEMAND']]\n",
    "\n",
    "# Predict using the already trained model\n",
    "predictions_2024 = clf.predict(X_2024)\n",
    "\n",
    "# Add predictions as a new column\n",
    "data_2024['predicted_any_condition'] = predictions_2024\n",
    "\n",
    "# Save to new CSV if you want\n",
    "data_2024.to_csv('daily_energy_metrics_2024_with_predictions.csv', index=False)\n",
    "\n"
   ]
  },
  {
   "cell_type": "code",
   "execution_count": 43,
   "id": "13db3bf5-1f6a-44ae-807d-fed6b412f976",
   "metadata": {
    "scrolled": true
   },
   "outputs": [
    {
     "name": "stdout",
     "output_type": "stream",
     "text": [
      "Accuracy on 2024 data: 0.96\n",
      "              precision    recall  f1-score   support\n",
      "\n",
      "           0       0.95      1.00      0.98       322\n",
      "           1       1.00      0.64      0.78        45\n",
      "\n",
      "    accuracy                           0.96       367\n",
      "   macro avg       0.98      0.82      0.88       367\n",
      "weighted avg       0.96      0.96      0.95       367\n",
      "\n",
      "[[322   0]\n",
      " [ 16  29]]\n"
     ]
    }
   ],
   "source": [
    "from sklearn.metrics import accuracy_score, classification_report, confusion_matrix\n",
    "\n",
    "# True labels from the 2024 file\n",
    "y_true_2024 = data_2024['any_condition'].astype(int)  # make sure it's int (0/1)\n",
    "\n",
    "# Compare with the predictions\n",
    "accuracy = accuracy_score(y_true_2024, predictions_2024)\n",
    "print(f\"Accuracy on 2024 data: {accuracy:.2f}\")\n",
    "\n",
    "# Optional: Full classification report\n",
    "print(classification_report(y_true_2024, predictions_2024))\n",
    "\n",
    "# Optional: Confusion matrix\n",
    "print(confusion_matrix(y_true_2024, predictions_2024))\n"
   ]
  },
  {
   "cell_type": "code",
   "execution_count": 44,
   "id": "a35c65db-a040-4e01-b152-9f5bb8dc5e1c",
   "metadata": {},
   "outputs": [
    {
     "name": "stdout",
     "output_type": "stream",
     "text": [
      "           date  any_condition  predicted_any_condition\n",
      "144  2024-05-24           True                        0\n",
      "155  2024-06-04           True                        0\n",
      "166  2024-06-15           True                        0\n",
      "168  2024-06-17           True                        0\n",
      "169  2024-06-18           True                        0\n",
      "171  2024-06-20           True                        0\n",
      "172  2024-06-21           True                        0\n",
      "173  2024-06-22           True                        0\n",
      "174  2024-06-23           True                        0\n",
      "175  2024-06-24           True                        0\n",
      "178  2024-06-27           True                        0\n",
      "184  2024-07-03           True                        0\n",
      "189  2024-07-08           True                        0\n",
      "192  2024-07-11           True                        0\n",
      "193  2024-07-12           True                        0\n",
      "231  2024-08-19           True                        0\n"
     ]
    }
   ],
   "source": [
    "# First, add the predictions to the 2024 dataframe if not already done\n",
    "data_2024['predicted_any_condition'] = predictions_2024\n",
    "\n",
    "# Find rows where prediction != actual\n",
    "wrong_predictions = data_2024[data_2024['predicted_any_condition'] != data_2024['any_condition']]\n",
    "\n",
    "# Show the dates and the mismatch\n",
    "print(wrong_predictions[['date', 'any_condition', 'predicted_any_condition']])\n"
   ]
  },
  {
   "cell_type": "code",
   "execution_count": 45,
   "id": "2e636042-88d7-41d0-8de2-aea07ce8bccc",
   "metadata": {},
   "outputs": [
    {
     "name": "stdout",
     "output_type": "stream",
     "text": [
      "SVM Accuracy on test data: 0.972972972972973\n",
      "              precision    recall  f1-score   support\n",
      "\n",
      "           0       0.97      1.00      0.99        71\n",
      "           1       1.00      0.33      0.50         3\n",
      "\n",
      "    accuracy                           0.97        74\n",
      "   macro avg       0.99      0.67      0.74        74\n",
      "weighted avg       0.97      0.97      0.97        74\n",
      "\n",
      "[[71  0]\n",
      " [ 2  1]]\n"
     ]
    }
   ],
   "source": [
    "import pandas as pd\n",
    "from sklearn.model_selection import train_test_split\n",
    "from sklearn.metrics import classification_report\n",
    "\n",
    "# Load your data (now using read_csv)\n",
    "data = pd.read_csv('daily_energy_metrics.csv')\n",
    "\n",
    "# Select features and target\n",
    "X = data[['max_RRP', 'max_GAP', 'max_DEMAND']]  # features\n",
    "y = data['any_condition'].astype(int)  # target (convert from bool to int 0/1)\n",
    "\n",
    "# Split into train and test sets\n",
    "X_train, X_test, y_train, y_test = train_test_split(X, y, test_size=0.2, random_state=42)\n",
    "\n",
    "from sklearn.svm import SVC\n",
    "\n",
    "# Create the SVM classifier\n",
    "svm_clf = SVC(kernel='rbf', random_state=42)\n",
    "\n",
    "# Train the model\n",
    "svm_clf.fit(X_train, y_train)\n",
    "\n",
    "# Predict on the test set\n",
    "svm_predictions = svm_clf.predict(X_test)\n",
    "\n",
    "# Evaluate the SVM model\n",
    "from sklearn.metrics import classification_report, accuracy_score, confusion_matrix\n",
    "\n",
    "print(\"SVM Accuracy on test data:\", accuracy_score(y_test, svm_predictions))\n",
    "print(classification_report(y_test, svm_predictions))\n",
    "print(confusion_matrix(y_test, svm_predictions))\n",
    "\n"
   ]
  },
  {
   "cell_type": "code",
   "execution_count": 46,
   "id": "4007fc28-87d7-47b4-ba7f-0769ff92097b",
   "metadata": {},
   "outputs": [
    {
     "name": "stdout",
     "output_type": "stream",
     "text": [
      "SVM Accuracy on 2024 data: 0.9264305177111717\n",
      "              precision    recall  f1-score   support\n",
      "\n",
      "           0       0.92      1.00      0.96       322\n",
      "           1       1.00      0.40      0.57        45\n",
      "\n",
      "    accuracy                           0.93       367\n",
      "   macro avg       0.96      0.70      0.77       367\n",
      "weighted avg       0.93      0.93      0.91       367\n",
      "\n",
      "[[322   0]\n",
      " [ 27  18]]\n"
     ]
    }
   ],
   "source": [
    "# Predict using the trained SVM model\n",
    "svm_predictions_2024 = svm_clf.predict(X_2024)\n",
    "\n",
    "data_2024['predicted_any_condition'] = svm_predictions_2024\n",
    "\n",
    "# Save to new CSV if you want\n",
    "data_2024.to_csv('SVM_daily_energy_metrics_2024_with_predictions.csv', index=False)\n",
    "\n",
    "# Evaluate performance\n",
    "from sklearn.metrics import accuracy_score, classification_report, confusion_matrix\n",
    "\n",
    "# Accuracy\n",
    "print(\"SVM Accuracy on 2024 data:\", accuracy_score(y_true_2024, svm_predictions_2024))\n",
    "\n",
    "# Full classification report\n",
    "print(classification_report(y_true_2024, svm_predictions_2024))\n",
    "\n",
    "# Confusion matrix\n",
    "print(confusion_matrix(y_true_2024, svm_predictions_2024))\n"
   ]
  },
  {
   "cell_type": "code",
   "execution_count": 47,
   "id": "1136bf2e-f903-4062-b4cb-a914488377eb",
   "metadata": {},
   "outputs": [
    {
     "name": "stdout",
     "output_type": "stream",
     "text": [
      "           date  any_condition  svm_predicted_any_condition\n",
      "52   2024-02-22           True                            0\n",
      "144  2024-05-24           True                            0\n",
      "153  2024-06-02           True                            0\n",
      "154  2024-06-03           True                            0\n",
      "155  2024-06-04           True                            0\n",
      "157  2024-06-06           True                            0\n",
      "164  2024-06-13           True                            0\n",
      "166  2024-06-15           True                            0\n",
      "168  2024-06-17           True                            0\n",
      "169  2024-06-18           True                            0\n",
      "170  2024-06-19           True                            0\n",
      "171  2024-06-20           True                            0\n",
      "172  2024-06-21           True                            0\n",
      "173  2024-06-22           True                            0\n",
      "174  2024-06-23           True                            0\n",
      "175  2024-06-24           True                            0\n",
      "178  2024-06-27           True                            0\n",
      "183  2024-07-02           True                            0\n",
      "184  2024-07-03           True                            0\n",
      "185  2024-07-04           True                            0\n",
      "186  2024-07-05           True                            0\n",
      "189  2024-07-08           True                            0\n",
      "191  2024-07-10           True                            0\n",
      "192  2024-07-11           True                            0\n",
      "193  2024-07-12           True                            0\n",
      "209  2024-07-28           True                            0\n",
      "231  2024-08-19           True                            0\n"
     ]
    }
   ],
   "source": [
    "# (Assuming you already predicted with SVM and have svm_predictions_2024)\n",
    "\n",
    "# Add the SVM predictions to your 2024 dataframe\n",
    "data_2024['svm_predicted_any_condition'] = svm_predictions_2024\n",
    "\n",
    "# Find the rows where SVM prediction != actual label\n",
    "wrong_svm_predictions = data_2024[data_2024['svm_predicted_any_condition'] != data_2024['any_condition']]\n",
    "\n",
    "# Show the dates, actual, and predicted values\n",
    "print(wrong_svm_predictions[['date', 'any_condition', 'svm_predicted_any_condition']])\n"
   ]
  },
  {
   "cell_type": "code",
   "execution_count": 23,
   "id": "5194d801-54a5-400b-83d9-c03302d851e5",
   "metadata": {},
   "outputs": [
    {
     "name": "stdout",
     "output_type": "stream",
     "text": [
      "              precision    recall  f1-score   support\n",
      "\n",
      "           0       0.93      1.00      0.96        26\n",
      "           1       1.00      0.33      0.50         3\n",
      "\n",
      "    accuracy                           0.93        29\n",
      "   macro avg       0.96      0.67      0.73        29\n",
      "weighted avg       0.94      0.93      0.92        29\n",
      "\n",
      "[[26  0]\n",
      " [ 2  1]]\n"
     ]
    }
   ],
   "source": [
    "import pandas as pd\n",
    "from sklearn.model_selection import train_test_split\n",
    "from sklearn.ensemble import RandomForestClassifier\n",
    "from sklearn.metrics import classification_report\n",
    "\n",
    "# Load your data (now using read_csv)\n",
    "data = pd.read_csv('SA_daily_energy_metrics.csv')\n",
    "\n",
    "# Select features and target\n",
    "X = data[['max_RRP', 'max_GAP', 'max_DEMAND']]  # features\n",
    "y = data['any_condition'].astype(int)  # target (convert from bool to int 0/1)\n",
    "\n",
    "# Split into train and test sets\n",
    "X_train, X_test, y_train, y_test = train_test_split(X, y, test_size=0.2)\n",
    "\n",
    "# Create and train the Random Forest Classifier\n",
    "clf = RandomForestClassifier(random_state=42)\n",
    "clf.fit(X_train, y_train)\n",
    "\n",
    "# Predict on test data\n",
    "y_pred = clf.predict(X_test)\n",
    "\n",
    "# Print classification report\n",
    "print(classification_report(y_test, y_pred))\n",
    "print(confusion_matrix(y_test, y_pred))"
   ]
  },
  {
   "cell_type": "code",
   "execution_count": 32,
   "id": "68b5d399-45f9-436c-b207-3e5aa861be80",
   "metadata": {},
   "outputs": [
    {
     "name": "stdout",
     "output_type": "stream",
     "text": [
      "Dates in energy not in wind: set()\n",
      "Dates in wind not in energy: set()\n",
      "Merged rows: 60\n",
      "Final rows after dropna: 60\n",
      "Final class distribution:\n",
      " any_condition\n",
      "False    56\n",
      "True      4\n",
      "Name: count, dtype: int64\n",
      "\n",
      "Classification Report:\n",
      "              precision    recall  f1-score   support\n",
      "\n",
      "           0       1.00      1.00      1.00        11\n",
      "           1       1.00      1.00      1.00         1\n",
      "\n",
      "    accuracy                           1.00        12\n",
      "   macro avg       1.00      1.00      1.00        12\n",
      "weighted avg       1.00      1.00      1.00        12\n",
      "\n",
      "\n",
      "Confusion Matrix:\n",
      "[[11  0]\n",
      " [ 0  1]]\n"
     ]
    }
   ],
   "source": [
    "import pandas as pd\n",
    "from sklearn.model_selection import train_test_split\n",
    "from sklearn.ensemble import RandomForestClassifier\n",
    "from sklearn.metrics import classification_report, confusion_matrix\n",
    "\n",
    "# === Load & Clean Energy Data ===\n",
    "energy_data = pd.read_csv('SA_daily_energy_metrics.csv')\n",
    "\n",
    "# Parse date with dayfirst, drop bad rows\n",
    "energy_data['date'] = pd.to_datetime(energy_data['date'], dayfirst=True, errors='coerce')\n",
    "energy_data = energy_data.dropna(subset=['date'])\n",
    "energy_data = energy_data.drop_duplicates(subset='date')\n",
    "\n",
    "# === Load & Clean Wind Data ===\n",
    "wind_data = pd.read_csv('windspeed_SA1.csv')\n",
    "\n",
    "# Parse date with dayfirst, drop bad rows\n",
    "wind_data['date'] = pd.to_datetime(wind_data['date'], dayfirst=True, errors='coerce')\n",
    "wind_data = wind_data.dropna(subset=['date'])\n",
    "wind_data = wind_data.drop_duplicates(subset='date')\n",
    "\n",
    "# === Optional: Check date alignment ===\n",
    "missing_in_wind = set(energy_data['date']) - set(wind_data['date'])\n",
    "missing_in_energy = set(wind_data['date']) - set(energy_data['date'])\n",
    "\n",
    "print(\"Dates in energy not in wind:\", missing_in_wind)\n",
    "print(\"Dates in wind not in energy:\", missing_in_energy)\n",
    "\n",
    "# === Merge datasets on date ===\n",
    "merged_data = pd.merge(\n",
    "    energy_data,\n",
    "    wind_data[['date', 'max_windspeed']],\n",
    "    on='date',\n",
    "    how='inner'\n",
    ")\n",
    "\n",
    "print(\"Merged rows:\", len(merged_data))\n",
    "\n",
    "# === Drop rows with missing required values ===\n",
    "merged_data = merged_data.dropna(subset=[\n",
    "    'max_windspeed', 'max_RRP', 'max_GAP', 'max_DEMAND', 'any_condition'\n",
    "])\n",
    "\n",
    "print(\"Final rows after dropna:\", len(merged_data))\n",
    "print(\"Final class distribution:\\n\", merged_data['any_condition'].value_counts())\n",
    "\n",
    "# === Features and Target ===\n",
    "X = merged_data[['max_RRP', 'max_GAP', 'max_DEMAND', 'max_windspeed']]\n",
    "y = merged_data['any_condition'].astype(int)\n",
    "\n",
    "# === Train-Test Split ===\n",
    "X_train, X_test, y_train, y_test = train_test_split(\n",
    "    X, y, test_size=0.2, stratify=y\n",
    ")\n",
    "\n",
    "# === Train Random Forest Model ===\n",
    "clf = RandomForestClassifier(class_weight='balanced')\n",
    "clf.fit(X_train, y_train)\n",
    "\n",
    "# === Predictions & Evaluation ===\n",
    "y_pred = clf.predict(X_test)\n",
    "\n",
    "print(\"\\nClassification Report:\")\n",
    "print(classification_report(y_test, y_pred))\n",
    "\n",
    "print(\"\\nConfusion Matrix:\")\n",
    "print(confusion_matrix(y_test, y_pred, labels=[0, 1]))\n"
   ]
  },
  {
   "cell_type": "code",
   "execution_count": null,
   "id": "0427c28c-9b5b-4734-ab7e-78bbbf2aa6c2",
   "metadata": {},
   "outputs": [],
   "source": []
  },
  {
   "cell_type": "code",
   "execution_count": null,
   "id": "ab6da38f-069e-461a-b322-bc52949b7667",
   "metadata": {},
   "outputs": [],
   "source": []
  }
 ],
 "metadata": {
  "kernelspec": {
   "display_name": "Python 3 (ipykernel)",
   "language": "python",
   "name": "python3"
  },
  "language_info": {
   "codemirror_mode": {
    "name": "ipython",
    "version": 3
   },
   "file_extension": ".py",
   "mimetype": "text/x-python",
   "name": "python",
   "nbconvert_exporter": "python",
   "pygments_lexer": "ipython3",
   "version": "3.12.7"
  }
 },
 "nbformat": 4,
 "nbformat_minor": 5
}
