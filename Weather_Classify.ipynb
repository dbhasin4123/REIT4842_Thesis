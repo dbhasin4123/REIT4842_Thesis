{
 "cells": [
  {
   "cell_type": "code",
   "execution_count": 9,
   "id": "c042fda3-f217-43ea-91a4-530c8e8c1d7d",
   "metadata": {},
   "outputs": [
    {
     "name": "stdout",
     "output_type": "stream",
     "text": [
      "Overall class distribution:\n",
      " any_condition\n",
      "0    134\n",
      "1     10\n",
      "Name: count, dtype: int64\n",
      "              precision    recall  f1-score   support\n",
      "\n",
      "           0       0.96      1.00      0.98        27\n",
      "           1       1.00      0.50      0.67         2\n",
      "\n",
      "    accuracy                           0.97        29\n",
      "   macro avg       0.98      0.75      0.82        29\n",
      "weighted avg       0.97      0.97      0.96        29\n",
      "\n",
      "[[27  0]\n",
      " [ 1  1]]\n"
     ]
    }
   ],
   "source": [
    "import pandas as pd\n",
    "from sklearn.model_selection import train_test_split\n",
    "from sklearn.ensemble import RandomForestClassifier\n",
    "from sklearn.metrics import classification_report, confusion_matrix\n",
    "\n",
    "# Load energy data\n",
    "energy_data = pd.read_csv('daily_energy_metrics.csv')\n",
    "energy_data['date'] = pd.to_datetime(energy_data['date'], dayfirst=True, errors='coerce')\n",
    "\n",
    "# Load temperature data\n",
    "temp_data = pd.read_csv('temp.csv')\n",
    "temp_data['date'] = pd.to_datetime(temp_data[['Year', 'Month', 'Day']], errors='coerce')\n",
    "temp_data = temp_data.rename(columns={'Maximum temperature (Degree C)': 'max_temp'})\n",
    "\n",
    "# Merge datasets\n",
    "merged_data = pd.merge(energy_data, temp_data[['date', 'max_temp']], on='date', how='left')\n",
    "merged_data = merged_data.dropna(subset=['max_temp', 'max_RRP', 'max_GAP', 'max_DEMAND', 'any_condition'])\n",
    "\n",
    "# Features and target\n",
    "X = merged_data[['max_RRP', 'max_GAP', 'max_DEMAND', 'max_temp']]\n",
    "y = merged_data['any_condition'].astype(int)\n",
    "\n",
    "# Show class distribution\n",
    "print(\"Overall class distribution:\\n\", y.value_counts())\n",
    "\n",
    "# Stratified split\n",
    "X_train, X_test, y_train, y_test = train_test_split(\n",
    "    X, y, test_size=0.2, random_state=42, stratify=y\n",
    ")\n",
    "\n",
    "# Train model\n",
    "clf = RandomForestClassifier(random_state=42, class_weight='balanced')\n",
    "clf.fit(X_train, y_train)\n",
    "\n",
    "# Predictions\n",
    "y_pred = clf.predict(X_test)\n",
    "\n",
    "# Evaluation\n",
    "print(classification_report(y_test, y_pred))\n",
    "print(confusion_matrix(y_test, y_pred, labels=[0, 1]))\n"
   ]
  },
  {
   "cell_type": "code",
   "execution_count": 4,
   "id": "78be1296-a2b7-4da3-a0c2-c9018b0d2681",
   "metadata": {},
   "outputs": [
    {
     "name": "stdout",
     "output_type": "stream",
     "text": [
      "Training label distribution:\n",
      " any_condition\n",
      "0    134\n",
      "1     10\n",
      "Name: count, dtype: int64 \n",
      "\n",
      "Test label distribution:\n",
      " any_condition\n",
      "0    129\n",
      "1     15\n",
      "Name: count, dtype: int64 \n",
      "\n",
      "=== 2024 Classification Report ===\n",
      "              precision    recall  f1-score   support\n",
      "\n",
      "           0       0.98      1.00      0.99       129\n",
      "           1       1.00      0.87      0.93        15\n",
      "\n",
      "    accuracy                           0.99       144\n",
      "   macro avg       0.99      0.93      0.96       144\n",
      "weighted avg       0.99      0.99      0.99       144\n",
      "\n",
      "Confusion Matrix:\n",
      "[[129   0]\n",
      " [  2  13]]\n"
     ]
    }
   ],
   "source": [
    "import pandas as pd\n",
    "from sklearn.ensemble import RandomForestClassifier\n",
    "from sklearn.metrics import classification_report, confusion_matrix\n",
    "\n",
    "# === Load and preprocess 2023 training data ===\n",
    "energy_2023 = pd.read_csv('daily_energy_metrics.csv')\n",
    "energy_2023['date'] = pd.to_datetime(energy_2023['date'], dayfirst=True, errors='coerce')\n",
    "\n",
    "temp_2023 = pd.read_csv('temp.csv')\n",
    "temp_2023['date'] = pd.to_datetime(temp_2023[['Year', 'Month', 'Day']], errors='coerce')\n",
    "temp_2023 = temp_2023.rename(columns={'Maximum temperature (Degree C)': 'max_temp'})\n",
    "\n",
    "train_df = pd.merge(energy_2023, temp_2023[['date', 'max_temp']], on='date', how='left')\n",
    "train_df = train_df.dropna(subset=['max_temp', 'max_RRP', 'max_GAP', 'max_DEMAND', 'any_condition'])\n",
    "\n",
    "X_train = train_df[['max_RRP', 'max_GAP', 'max_DEMAND', 'max_temp']]\n",
    "y_train = train_df['any_condition'].astype(int)\n",
    "\n",
    "print(\"Training label distribution:\\n\", y_train.value_counts(), \"\\n\")\n",
    "\n",
    "# === Load and preprocess 2024 test data ===\n",
    "energy_2024 = pd.read_csv('daily_energy_metrics_2024.csv')\n",
    "energy_2024['date'] = pd.to_datetime(energy_2024['date'], dayfirst=True, errors='coerce')\n",
    "\n",
    "temp_2024 = pd.read_csv('temp_2024.csv')\n",
    "temp_2024['date'] = pd.to_datetime(temp_2024[['Year', 'Month', 'Day']], errors='coerce')\n",
    "temp_2024 = temp_2024.rename(columns={'Maximum temperature (Degree C)': 'max_temp'})\n",
    "\n",
    "test_df = pd.merge(energy_2024, temp_2024[['date', 'max_temp']], on='date', how='left')\n",
    "test_df = test_df.dropna(subset=['max_temp', 'max_RRP', 'max_GAP', 'max_DEMAND'])\n",
    "\n",
    "X_test = test_df[['max_RRP', 'max_GAP', 'max_DEMAND', 'max_temp']]\n",
    "\n",
    "has_labels = 'any_condition' in test_df.columns\n",
    "if has_labels:\n",
    "    y_test = test_df['any_condition'].astype(int)\n",
    "    print(\"Test label distribution:\\n\", y_test.value_counts(), \"\\n\")\n",
    "\n",
    "# === Train and predict ===\n",
    "clf = RandomForestClassifier(random_state=42)\n",
    "clf.fit(X_train, y_train)\n",
    "y_pred = clf.predict(X_test)\n",
    "\n",
    "# === Output results ===\n",
    "if has_labels:\n",
    "    print(\"=== 2024 Classification Report ===\")\n",
    "    print(classification_report(y_test, y_pred, zero_division=0))\n",
    "    print(\"Confusion Matrix:\")\n",
    "    print(confusion_matrix(y_test, y_pred))\n",
    "else:\n",
    "    print(\"Predictions for 2024 (no labels provided):\")\n",
    "    results_df = test_df[['date']].copy()\n",
    "    results_df['predicted_any_condition'] = y_pred\n",
    "    print(results_df.head())\n"
   ]
  },
  {
   "cell_type": "code",
   "execution_count": 5,
   "id": "9ea51b55-bd62-47df-ae06-4172c2318c68",
   "metadata": {},
   "outputs": [
    {
     "name": "stdout",
     "output_type": "stream",
     "text": [
      "\n",
      "=== Misclassified Dates ===\n",
      "          date  actual  predicted\n",
      "36  2024-06-02       1          0\n",
      "343 2024-09-12       1          0\n"
     ]
    }
   ],
   "source": [
    "# === Identify misclassified dates ===\n",
    "misclassified = y_test != y_pred\n",
    "misclassified_dates = test_df.loc[misclassified, 'date']\n",
    "comparison_df = test_df.loc[misclassified, ['date']].copy()\n",
    "comparison_df['actual'] = y_test[misclassified].values\n",
    "comparison_df['predicted'] = y_pred[misclassified]\n",
    "\n",
    "print(\"\\n=== Misclassified Dates ===\")\n",
    "print(comparison_df)\n"
   ]
  },
  {
   "cell_type": "code",
   "execution_count": 7,
   "id": "de15739b-d0b6-4a2c-bde6-c073f37bce77",
   "metadata": {},
   "outputs": [
    {
     "name": "stdout",
     "output_type": "stream",
     "text": [
      "Index(['index', 'values_block_0', 'values_block_1'], dtype='object')\n",
      "                 index  values_block_0 values_block_1\n",
      "0  1672531200000000000        4.611111              N\n",
      "1  1672533000000000000        4.111111              N\n",
      "2  1672534800000000000        4.111111              N\n",
      "3  1672536600000000000        3.611111              N\n",
      "4  1672538400000000000        4.611111              N\n"
     ]
    }
   ],
   "source": [
    "import pandas as pd\n",
    "\n",
    "df = pd.read_hdf('deven_wind.h5', key='data/40922/windspeed-aws_instant_30minute/table')\n",
    "print(df.columns)\n",
    "print(df.head())\n"
   ]
  },
  {
   "cell_type": "code",
   "execution_count": 8,
   "id": "4c25e01e-de17-4140-935f-323ad16dc765",
   "metadata": {},
   "outputs": [
    {
     "name": "stdout",
     "output_type": "stream",
     "text": [
      "Saved daily max windspeed to windspeed_SA1.csv\n"
     ]
    }
   ],
   "source": [
    "import pandas as pd\n",
    "\n",
    "# Load raw data\n",
    "df = pd.read_hdf('deven_wind.h5', key='data/40922/windspeed-aws_instant_30minute/table')\n",
    "\n",
    "# Rename columns for clarity\n",
    "df.columns = ['timestamp_ns', 'windspeed', 'flag']\n",
    "\n",
    "# Convert timestamp from nanoseconds to datetime\n",
    "df['timestamp'] = pd.to_datetime(df['timestamp_ns'])\n",
    "\n",
    "# Extract date part\n",
    "df['date'] = df['timestamp'].dt.date\n",
    "\n",
    "# Group by date and find daily max windspeed\n",
    "daily_max = df.groupby('date')['windspeed'].max().reset_index()\n",
    "\n",
    "# Rename columns\n",
    "daily_max.columns = ['date', 'max_windspeed']\n",
    "\n",
    "# Save to CSV\n",
    "daily_max.to_csv('windspeed_SA1.csv', index=False)\n",
    "\n",
    "print(\"Saved daily max windspeed to windspeed_SA1.csv\")\n"
   ]
  },
  {
   "cell_type": "code",
   "execution_count": null,
   "id": "f3e7ff54-c349-4269-a988-d719ddaf60b1",
   "metadata": {},
   "outputs": [],
   "source": []
  }
 ],
 "metadata": {
  "kernelspec": {
   "display_name": "Python 3 (ipykernel)",
   "language": "python",
   "name": "python3"
  },
  "language_info": {
   "codemirror_mode": {
    "name": "ipython",
    "version": 3
   },
   "file_extension": ".py",
   "mimetype": "text/x-python",
   "name": "python",
   "nbconvert_exporter": "python",
   "pygments_lexer": "ipython3",
   "version": "3.12.7"
  }
 },
 "nbformat": 4,
 "nbformat_minor": 5
}
